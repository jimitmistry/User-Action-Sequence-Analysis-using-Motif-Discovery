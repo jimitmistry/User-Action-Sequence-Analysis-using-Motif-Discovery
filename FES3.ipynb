{
 "cells": [
  {
   "cell_type": "code",
   "execution_count": 1,
   "metadata": {
    "scrolled": true
   },
   "outputs": [],
   "source": [
    "import pandas as pd\n",
    "import numpy as np\n",
    "from matrixprofile import *"
   ]
  },
  {
   "cell_type": "code",
   "execution_count": 2,
   "metadata": {},
   "outputs": [],
   "source": [
    "df = pd.DataFrame(pd.read_csv(\"./combined_activities_51319.csv\"))"
   ]
  },
  {
   "cell_type": "code",
   "execution_count": 3,
   "metadata": {},
   "outputs": [
    {
     "name": "stdout",
     "output_type": "stream",
     "text": [
      "<class 'pandas.core.frame.DataFrame'>\n",
      "RangeIndex: 2698812 entries, 0 to 2698811\n",
      "Data columns (total 27 columns):\n",
      "Unnamed: 0                       int64\n",
      "userID                           int64\n",
      "time                             object\n",
      "subjectID                        object\n",
      "id.x                             float64\n",
      "type                             object\n",
      "relatedID                        object\n",
      "data                             object\n",
      "new.category                     object\n",
      "GoldLabel                        float64\n",
      "id.y                             float64\n",
      "links_project                    float64\n",
      "links_workflow                   float64\n",
      "metadata_workflow_version        float64\n",
      "annotations_value_choiceINT      float64\n",
      "gravityspy_id                    object\n",
      "annotations_value_choice         object\n",
      "metadata_finished_at             object\n",
      "metadata_started_at              object\n",
      "uniqueID                         object\n",
      "gold_score                       float64\n",
      "annotations_value_choice_gold    object\n",
      "session                          int64\n",
      "event_order                      int64\n",
      "before_learning                  object\n",
      "aftergold                        object\n",
      "new.category2                    object\n",
      "dtypes: float64(8), int64(4), object(15)\n",
      "memory usage: 555.9+ MB\n"
     ]
    }
   ],
   "source": [
    "df.info()"
   ]
  },
  {
   "cell_type": "markdown",
   "metadata": {},
   "source": [
    "Find the negative feedback indexes"
   ]
  },
  {
   "cell_type": "code",
   "execution_count": 4,
   "metadata": {},
   "outputs": [],
   "source": [
    "neg_index = df[df.gold_score == 0].index.values.tolist()"
   ]
  },
  {
   "cell_type": "code",
   "execution_count": 5,
   "metadata": {},
   "outputs": [],
   "source": [
    "#classify = {\"classify\":1, \"communal\":2, \"exploring\":3, \"learning\":4, \"personal\":5, \"socialize\":6, \"view discussions\":7}"
   ]
  },
  {
   "cell_type": "code",
   "execution_count": 6,
   "metadata": {},
   "outputs": [],
   "source": [
    "#df[\"new.category2\"] = [classify[item] if item in df[\"new.category2\"].values else None for item in df[\"new.category2\"].values]"
   ]
  },
  {
   "cell_type": "code",
   "execution_count": 7,
   "metadata": {},
   "outputs": [],
   "source": [
    "# only need userID, links_workflow, gold_score time, new.category2 , session\n",
    "df_lite = df.iloc[:,[1,2,12,20,22,26]]"
   ]
  },
  {
   "cell_type": "code",
   "execution_count": 8,
   "metadata": {},
   "outputs": [
    {
     "name": "stderr",
     "output_type": "stream",
     "text": [
      "/home/jimit/anaconda3/lib/python3.7/site-packages/pandas/core/frame.py:4238: SettingWithCopyWarning: \n",
      "A value is trying to be set on a copy of a slice from a DataFrame\n",
      "\n",
      "See the caveats in the documentation: http://pandas.pydata.org/pandas-docs/stable/user_guide/indexing.html#returning-a-view-versus-a-copy\n",
      "  return super().rename(**kwargs)\n"
     ]
    }
   ],
   "source": [
    "df_lite.rename(columns = {'new.category2':'category2'}, inplace = True)"
   ]
  },
  {
   "cell_type": "code",
   "execution_count": 9,
   "metadata": {},
   "outputs": [
    {
     "name": "stderr",
     "output_type": "stream",
     "text": [
      "/home/jimit/anaconda3/lib/python3.7/site-packages/ipykernel_launcher.py:1: SettingWithCopyWarning: \n",
      "A value is trying to be set on a copy of a slice from a DataFrame\n",
      "\n",
      "See the caveats in the documentation: http://pandas.pydata.org/pandas-docs/stable/user_guide/indexing.html#returning-a-view-versus-a-copy\n",
      "  \"\"\"Entry point for launching an IPython kernel.\n",
      "/home/jimit/anaconda3/lib/python3.7/site-packages/pandas/core/generic.py:9114: SettingWithCopyWarning: \n",
      "A value is trying to be set on a copy of a slice from a DataFrame\n",
      "\n",
      "See the caveats in the documentation: http://pandas.pydata.org/pandas-docs/stable/user_guide/indexing.html#returning-a-view-versus-a-copy\n",
      "  self._update_inplace(new_data)\n",
      "/home/jimit/anaconda3/lib/python3.7/site-packages/IPython/core/interactiveshell.py:3319: SettingWithCopyWarning: \n",
      "A value is trying to be set on a copy of a slice from a DataFrame\n",
      "\n",
      "See the caveats in the documentation: http://pandas.pydata.org/pandas-docs/stable/user_guide/indexing.html#returning-a-view-versus-a-copy\n",
      "  exec(code_obj, self.user_global_ns, self.user_ns)\n",
      "/home/jimit/anaconda3/lib/python3.7/site-packages/ipykernel_launcher.py:2: SettingWithCopyWarning: \n",
      "A value is trying to be set on a copy of a slice from a DataFrame\n",
      "\n",
      "See the caveats in the documentation: http://pandas.pydata.org/pandas-docs/stable/user_guide/indexing.html#returning-a-view-versus-a-copy\n",
      "  \n",
      "/home/jimit/anaconda3/lib/python3.7/site-packages/ipykernel_launcher.py:3: SettingWithCopyWarning: \n",
      "A value is trying to be set on a copy of a slice from a DataFrame\n",
      "\n",
      "See the caveats in the documentation: http://pandas.pydata.org/pandas-docs/stable/user_guide/indexing.html#returning-a-view-versus-a-copy\n",
      "  This is separate from the ipykernel package so we can avoid doing imports until\n",
      "/home/jimit/anaconda3/lib/python3.7/site-packages/ipykernel_launcher.py:4: SettingWithCopyWarning: \n",
      "A value is trying to be set on a copy of a slice from a DataFrame\n",
      "\n",
      "See the caveats in the documentation: http://pandas.pydata.org/pandas-docs/stable/user_guide/indexing.html#returning-a-view-versus-a-copy\n",
      "  after removing the cwd from sys.path.\n",
      "/home/jimit/anaconda3/lib/python3.7/site-packages/ipykernel_launcher.py:5: SettingWithCopyWarning: \n",
      "A value is trying to be set on a copy of a slice from a DataFrame\n",
      "\n",
      "See the caveats in the documentation: http://pandas.pydata.org/pandas-docs/stable/user_guide/indexing.html#returning-a-view-versus-a-copy\n",
      "  \"\"\"\n"
     ]
    }
   ],
   "source": [
    "df_lite.links_workflow[df_lite.links_workflow == 1610] = 1\n",
    "df_lite.links_workflow[df_lite.links_workflow == 1934] = 2\n",
    "df_lite.links_workflow[df_lite.links_workflow == 1935] = 3\n",
    "df_lite.links_workflow[df_lite.links_workflow == 2360] = 4\n",
    "df_lite.links_workflow[df_lite.links_workflow == 2117] = 5"
   ]
  },
  {
   "cell_type": "code",
   "execution_count": 10,
   "metadata": {},
   "outputs": [
    {
     "data": {
      "text/plain": [
       "\"\\ndf_lite.category2[df_lite.category2 == 'classify'] = 10\\ndf_lite.category2[df_lite.category2 == 'communal'] = 20\\ndf_lite.category2[df_lite.category2 == 'exploring'] = 30\\ndf_lite.category2[df_lite.category2 == 'learning'] = 40\\ndf_lite.category2[df_lite.category2 == 'personal'] = 50\\ndf_lite.category2[df_lite.category2 == 'socialize'] = 60\\ndf_lite.category2[df_lite.category2 == 'view discussions'] = 70\\n\""
      ]
     },
     "execution_count": 10,
     "metadata": {},
     "output_type": "execute_result"
    }
   ],
   "source": [
    "'''\n",
    "df_lite.category2[df_lite.category2 == 'classify'] = 10\n",
    "df_lite.category2[df_lite.category2 == 'communal'] = 20\n",
    "df_lite.category2[df_lite.category2 == 'exploring'] = 30\n",
    "df_lite.category2[df_lite.category2 == 'learning'] = 40\n",
    "df_lite.category2[df_lite.category2 == 'personal'] = 50\n",
    "df_lite.category2[df_lite.category2 == 'socialize'] = 60\n",
    "df_lite.category2[df_lite.category2 == 'view discussions'] = 70\n",
    "'''"
   ]
  },
  {
   "cell_type": "code",
   "execution_count": 11,
   "metadata": {},
   "outputs": [
    {
     "data": {
      "text/plain": [
       "1.0    559865\n",
       "0.0     32054\n",
       "Name: gold_score, dtype: int64"
      ]
     },
     "execution_count": 11,
     "metadata": {},
     "output_type": "execute_result"
    }
   ],
   "source": [
    "df_lite.gold_score.value_counts()"
   ]
  },
  {
   "cell_type": "code",
   "execution_count": 12,
   "metadata": {},
   "outputs": [
    {
     "name": "stderr",
     "output_type": "stream",
     "text": [
      "/home/jimit/anaconda3/lib/python3.7/site-packages/pandas/core/generic.py:5208: SettingWithCopyWarning: \n",
      "A value is trying to be set on a copy of a slice from a DataFrame.\n",
      "Try using .loc[row_indexer,col_indexer] = value instead\n",
      "\n",
      "See the caveats in the documentation: http://pandas.pydata.org/pandas-docs/stable/user_guide/indexing.html#returning-a-view-versus-a-copy\n",
      "  self[name] = value\n"
     ]
    }
   ],
   "source": [
    "df_lite.gold_score = df_lite.gold_score.fillna(0)"
   ]
  },
  {
   "cell_type": "code",
   "execution_count": 13,
   "metadata": {},
   "outputs": [
    {
     "data": {
      "text/plain": [
       "classify            2523660\n",
       "view discussions      65237\n",
       "exploring             45947\n",
       "learning              34486\n",
       "socialize             17205\n",
       "communal               8131\n",
       "personal               4146\n",
       "Name: category2, dtype: int64"
      ]
     },
     "execution_count": 13,
     "metadata": {},
     "output_type": "execute_result"
    }
   ],
   "source": [
    "df_lite.category2.value_counts()"
   ]
  },
  {
   "cell_type": "code",
   "execution_count": 14,
   "metadata": {},
   "outputs": [
    {
     "data": {
      "text/plain": [
       "10733"
      ]
     },
     "execution_count": 14,
     "metadata": {},
     "output_type": "execute_result"
    }
   ],
   "source": [
    "#max(set(list(df_lite.userID)), key = list(df_lite.userID).count)\n",
    "len(list(df_lite.userID.unique()))"
   ]
  },
  {
   "cell_type": "markdown",
   "metadata": {},
   "source": [
    "Create a df for workflow 5"
   ]
  },
  {
   "cell_type": "code",
   "execution_count": 51,
   "metadata": {},
   "outputs": [],
   "source": [
    "df5 = df_lite[(df_lite.links_workflow == 2)]"
   ]
  },
  {
   "cell_type": "code",
   "execution_count": 52,
   "metadata": {},
   "outputs": [
    {
     "data": {
      "text/html": [
       "<div>\n",
       "<style scoped>\n",
       "    .dataframe tbody tr th:only-of-type {\n",
       "        vertical-align: middle;\n",
       "    }\n",
       "\n",
       "    .dataframe tbody tr th {\n",
       "        vertical-align: top;\n",
       "    }\n",
       "\n",
       "    .dataframe thead th {\n",
       "        text-align: right;\n",
       "    }\n",
       "</style>\n",
       "<table border=\"1\" class=\"dataframe\">\n",
       "  <thead>\n",
       "    <tr style=\"text-align: right;\">\n",
       "      <th></th>\n",
       "      <th>index</th>\n",
       "      <th>userID</th>\n",
       "      <th>time</th>\n",
       "      <th>links_workflow</th>\n",
       "      <th>gold_score</th>\n",
       "      <th>session</th>\n",
       "      <th>category2</th>\n",
       "    </tr>\n",
       "  </thead>\n",
       "  <tbody>\n",
       "    <tr>\n",
       "      <th>0</th>\n",
       "      <td>92</td>\n",
       "      <td>1001237</td>\n",
       "      <td>2017-06-12 18:46:16</td>\n",
       "      <td>2.0</td>\n",
       "      <td>1.0</td>\n",
       "      <td>2</td>\n",
       "      <td>classify</td>\n",
       "    </tr>\n",
       "    <tr>\n",
       "      <th>1</th>\n",
       "      <td>93</td>\n",
       "      <td>1001237</td>\n",
       "      <td>2017-06-12 18:47:27</td>\n",
       "      <td>2.0</td>\n",
       "      <td>0.0</td>\n",
       "      <td>2</td>\n",
       "      <td>classify</td>\n",
       "    </tr>\n",
       "    <tr>\n",
       "      <th>2</th>\n",
       "      <td>94</td>\n",
       "      <td>1001237</td>\n",
       "      <td>2017-06-12 18:47:38</td>\n",
       "      <td>2.0</td>\n",
       "      <td>1.0</td>\n",
       "      <td>2</td>\n",
       "      <td>classify</td>\n",
       "    </tr>\n",
       "    <tr>\n",
       "      <th>3</th>\n",
       "      <td>95</td>\n",
       "      <td>1001237</td>\n",
       "      <td>2017-06-12 18:47:44</td>\n",
       "      <td>2.0</td>\n",
       "      <td>1.0</td>\n",
       "      <td>2</td>\n",
       "      <td>classify</td>\n",
       "    </tr>\n",
       "    <tr>\n",
       "      <th>4</th>\n",
       "      <td>96</td>\n",
       "      <td>1001237</td>\n",
       "      <td>2017-06-12 18:48:11</td>\n",
       "      <td>2.0</td>\n",
       "      <td>1.0</td>\n",
       "      <td>2</td>\n",
       "      <td>classify</td>\n",
       "    </tr>\n",
       "    <tr>\n",
       "      <th>...</th>\n",
       "      <td>...</td>\n",
       "      <td>...</td>\n",
       "      <td>...</td>\n",
       "      <td>...</td>\n",
       "      <td>...</td>\n",
       "      <td>...</td>\n",
       "      <td>...</td>\n",
       "    </tr>\n",
       "    <tr>\n",
       "      <th>397862</th>\n",
       "      <td>2698625</td>\n",
       "      <td>999716</td>\n",
       "      <td>2017-05-06 23:47:57</td>\n",
       "      <td>2.0</td>\n",
       "      <td>1.0</td>\n",
       "      <td>1</td>\n",
       "      <td>classify</td>\n",
       "    </tr>\n",
       "    <tr>\n",
       "      <th>397863</th>\n",
       "      <td>2698626</td>\n",
       "      <td>999716</td>\n",
       "      <td>2017-05-06 23:48:04</td>\n",
       "      <td>2.0</td>\n",
       "      <td>1.0</td>\n",
       "      <td>1</td>\n",
       "      <td>classify</td>\n",
       "    </tr>\n",
       "    <tr>\n",
       "      <th>397864</th>\n",
       "      <td>2698627</td>\n",
       "      <td>999716</td>\n",
       "      <td>2017-05-06 23:48:13</td>\n",
       "      <td>2.0</td>\n",
       "      <td>0.0</td>\n",
       "      <td>1</td>\n",
       "      <td>classify</td>\n",
       "    </tr>\n",
       "    <tr>\n",
       "      <th>397865</th>\n",
       "      <td>2698628</td>\n",
       "      <td>999716</td>\n",
       "      <td>2017-05-06 23:48:14</td>\n",
       "      <td>2.0</td>\n",
       "      <td>0.0</td>\n",
       "      <td>1</td>\n",
       "      <td>classify</td>\n",
       "    </tr>\n",
       "    <tr>\n",
       "      <th>397866</th>\n",
       "      <td>2698629</td>\n",
       "      <td>999716</td>\n",
       "      <td>2017-05-06 23:48:21</td>\n",
       "      <td>2.0</td>\n",
       "      <td>0.0</td>\n",
       "      <td>1</td>\n",
       "      <td>classify</td>\n",
       "    </tr>\n",
       "  </tbody>\n",
       "</table>\n",
       "<p>397867 rows × 7 columns</p>\n",
       "</div>"
      ],
      "text/plain": [
       "          index   userID                 time  links_workflow  gold_score  \\\n",
       "0            92  1001237  2017-06-12 18:46:16             2.0         1.0   \n",
       "1            93  1001237  2017-06-12 18:47:27             2.0         0.0   \n",
       "2            94  1001237  2017-06-12 18:47:38             2.0         1.0   \n",
       "3            95  1001237  2017-06-12 18:47:44             2.0         1.0   \n",
       "4            96  1001237  2017-06-12 18:48:11             2.0         1.0   \n",
       "...         ...      ...                  ...             ...         ...   \n",
       "397862  2698625   999716  2017-05-06 23:47:57             2.0         1.0   \n",
       "397863  2698626   999716  2017-05-06 23:48:04             2.0         1.0   \n",
       "397864  2698627   999716  2017-05-06 23:48:13             2.0         0.0   \n",
       "397865  2698628   999716  2017-05-06 23:48:14             2.0         0.0   \n",
       "397866  2698629   999716  2017-05-06 23:48:21             2.0         0.0   \n",
       "\n",
       "        session category2  \n",
       "0             2  classify  \n",
       "1             2  classify  \n",
       "2             2  classify  \n",
       "3             2  classify  \n",
       "4             2  classify  \n",
       "...         ...       ...  \n",
       "397862        1  classify  \n",
       "397863        1  classify  \n",
       "397864        1  classify  \n",
       "397865        1  classify  \n",
       "397866        1  classify  \n",
       "\n",
       "[397867 rows x 7 columns]"
      ]
     },
     "execution_count": 52,
     "metadata": {},
     "output_type": "execute_result"
    }
   ],
   "source": [
    "df5.reset_index()"
   ]
  },
  {
   "cell_type": "code",
   "execution_count": null,
   "metadata": {},
   "outputs": [],
   "source": []
  },
  {
   "cell_type": "code",
   "execution_count": 53,
   "metadata": {},
   "outputs": [
    {
     "data": {
      "text/plain": [
       "array([1001237,  100423, 1008979, ...,  999682,  999701,  999716])"
      ]
     },
     "execution_count": 53,
     "metadata": {},
     "output_type": "execute_result"
    }
   ],
   "source": [
    "df5.userID.unique()"
   ]
  },
  {
   "cell_type": "code",
   "execution_count": 54,
   "metadata": {},
   "outputs": [
    {
     "data": {
      "text/plain": [
       "classify     397853\n",
       "exploring        13\n",
       "learning          1\n",
       "Name: category2, dtype: int64"
      ]
     },
     "execution_count": 54,
     "metadata": {},
     "output_type": "execute_result"
    }
   ],
   "source": [
    "df5['category2'].value_counts()"
   ]
  },
  {
   "cell_type": "code",
   "execution_count": 55,
   "metadata": {},
   "outputs": [],
   "source": [
    "#df3['new.category2'][df3['new.category2'] == 'classify'] = 1\n",
    "#df3['new.category2'][df3['new.category2'] == 'communal'] = 2\n",
    "#df3['new.category2'][df3['new.category2'] == 'exploring'] = 3\n",
    "#df3['new.category2'][df3['new.category2'] == 'learning'] = 4\n",
    "#df3['new.category2'][df3['new.category2'] == 'personal'] = 5\n",
    "#df3['new.category2'][df3['new.category2'] == 'socialize'] = 6\n",
    "#df3['new.category2'][df3['new.category2'] == 'view discussions'] = 7\n",
    "#df3['new.category2'] = df3['new.category2'].map({\"classify\":1, \"communal\":2, \"exploring\":3, \"learning\":4, \"personal\":5, \"socialize\":6, \"view discussions\":7})"
   ]
  },
  {
   "cell_type": "code",
   "execution_count": 56,
   "metadata": {},
   "outputs": [
    {
     "name": "stdout",
     "output_type": "stream",
     "text": [
      "<class 'pandas.core.frame.DataFrame'>\n",
      "Int64Index: 397867 entries, 92 to 2698629\n",
      "Data columns (total 6 columns):\n",
      "userID            397867 non-null int64\n",
      "time              397867 non-null object\n",
      "links_workflow    397867 non-null float64\n",
      "gold_score        397867 non-null float64\n",
      "session           397867 non-null int64\n",
      "category2         397867 non-null object\n",
      "dtypes: float64(2), int64(2), object(2)\n",
      "memory usage: 21.2+ MB\n"
     ]
    }
   ],
   "source": [
    "df5.info()"
   ]
  },
  {
   "cell_type": "code",
   "execution_count": 57,
   "metadata": {},
   "outputs": [],
   "source": [
    "#df3.userID = pd.to_numeric(df3.userID,downcast = 'integer')\n",
    "#df5['category2'] = pd.to_numeric(df5['category2'],downcast = 'integer')"
   ]
  },
  {
   "cell_type": "code",
   "execution_count": 58,
   "metadata": {},
   "outputs": [
    {
     "data": {
      "text/plain": [
       "array([1001237,  100423, 1008979, ...,  999682,  999701,  999716])"
      ]
     },
     "execution_count": 58,
     "metadata": {},
     "output_type": "execute_result"
    }
   ],
   "source": [
    "df5['userID'].unique()"
   ]
  },
  {
   "cell_type": "code",
   "execution_count": 59,
   "metadata": {},
   "outputs": [
    {
     "data": {
      "text/plain": [
       "'classify'"
      ]
     },
     "execution_count": 59,
     "metadata": {},
     "output_type": "execute_result"
    }
   ],
   "source": [
    "df5['category2'].values[0]"
   ]
  },
  {
   "cell_type": "code",
   "execution_count": 60,
   "metadata": {},
   "outputs": [],
   "source": [
    "#For lossless time series conversion"
   ]
  },
  {
   "cell_type": "code",
   "execution_count": 61,
   "metadata": {},
   "outputs": [],
   "source": [
    "my_list = [0]\n",
    "data1 = df5.category2.values.tolist()\n",
    "for i in range(0,len(data1)):\n",
    "    if data1[i] == 'classify':\n",
    "        my_list.append(my_list[-1]+3)\n",
    "    elif data1[i] == 'communal':\n",
    "        my_list.append(my_list[-1]+2)\n",
    "    elif data1[i] == 'exploring':\n",
    "        my_list.append(my_list[-1]+1)\n",
    "    elif data1[i] == 'learning':\n",
    "        my_list.append(my_list[-1]+0)\n",
    "    elif data1[i] == 'personal':\n",
    "        my_list.append(my_list[-1]-1)\n",
    "    elif data1[i] == 'socialize':\n",
    "        my_list.append(my_list[-1]-2)\n",
    "    elif data1[i] == 'view discussions':\n",
    "        my_list.append(my_list[-1]-3)"
   ]
  },
  {
   "cell_type": "code",
   "execution_count": 62,
   "metadata": {},
   "outputs": [],
   "source": [
    "#my_list = np.array(df5['category2'].values.tolist())"
   ]
  },
  {
   "cell_type": "code",
   "execution_count": 63,
   "metadata": {},
   "outputs": [
    {
     "data": {
      "text/plain": [
       "int"
      ]
     },
     "execution_count": 63,
     "metadata": {},
     "output_type": "execute_result"
    }
   ],
   "source": [
    "type(my_list[0])"
   ]
  },
  {
   "cell_type": "code",
   "execution_count": 64,
   "metadata": {},
   "outputs": [],
   "source": [
    "my_list1 = matrixProfile.to_np_array(my_list)"
   ]
  },
  {
   "cell_type": "code",
   "execution_count": 65,
   "metadata": {},
   "outputs": [
    {
     "data": {
      "text/plain": [
       "397868"
      ]
     },
     "execution_count": 65,
     "metadata": {},
     "output_type": "execute_result"
    }
   ],
   "source": [
    "len(my_list1)"
   ]
  },
  {
   "cell_type": "code",
   "execution_count": 66,
   "metadata": {},
   "outputs": [],
   "source": [
    "#set(my_list1)"
   ]
  },
  {
   "cell_type": "code",
   "execution_count": 67,
   "metadata": {},
   "outputs": [],
   "source": [
    "m = 10\n",
    "pattern = my_list1"
   ]
  },
  {
   "cell_type": "code",
   "execution_count": 68,
   "metadata": {},
   "outputs": [],
   "source": [
    "mp = matrixProfile.stomp(pattern,m)"
   ]
  },
  {
   "cell_type": "code",
   "execution_count": 69,
   "metadata": {},
   "outputs": [
    {
     "data": {
      "text/plain": [
       "(array([0.00000000e+00, 1.03184945e-01, 1.26409007e-01, 1.28703118e-01,\n",
       "        3.40205013e-01, 1.00000000e+00, 2.00000000e+00, 3.00000000e+00,\n",
       "        4.00000000e+00, 5.00000000e+00, 6.00000000e+00, 7.00000000e+00,\n",
       "        8.00000000e+00, 9.00000000e+00, 1.00000000e+01, 1.10000000e+01,\n",
       "        1.20000000e+01, 1.30000000e+01, 1.40000000e+01, 1.50000000e+01,\n",
       "        1.60000000e+01, 1.70000000e+01, 1.80000000e+01, 1.90000000e+01,\n",
       "        2.00000000e+01, 2.10000000e+01, 2.20000000e+01, 2.30000000e+01,\n",
       "        2.40000000e+01, 2.50000000e+01, 2.60000000e+01, 2.70000000e+01,\n",
       "        2.80000000e+01, 2.90000000e+01, 3.00000000e+01, 3.10000000e+01,\n",
       "        3.20000000e+01, 3.30000000e+01, 3.40000000e+01, 3.50000000e+01,\n",
       "        3.60000000e+01, 3.70000000e+01, 3.80000000e+01, 3.90000000e+01,\n",
       "        4.00000000e+01, 4.10000000e+01, 4.20000000e+01, 4.30000000e+01,\n",
       "        4.40000000e+01, 4.50000000e+01, 4.60000000e+01, 4.70000000e+01,\n",
       "        4.80000000e+01, 4.90000000e+01, 5.00000000e+01, 5.10000000e+01,\n",
       "        5.20000000e+01, 5.30000000e+01, 5.40000000e+01, 5.50000000e+01,\n",
       "        5.60000000e+01, 5.70000000e+01, 5.80000000e+01, 5.90000000e+01,\n",
       "        6.00000000e+01, 6.10000000e+01, 6.20000000e+01, 6.30000000e+01,\n",
       "        6.40000000e+01, 6.50000000e+01, 6.60000000e+01, 6.70000000e+01,\n",
       "        6.80000000e+01, 6.90000000e+01, 7.00000000e+01, 7.10000000e+01,\n",
       "        7.20000000e+01, 7.30000000e+01, 7.40000000e+01, 7.50000000e+01,\n",
       "        7.60000000e+01, 7.70000000e+01, 7.80000000e+01, 7.90000000e+01,\n",
       "        8.00000000e+01, 8.10000000e+01, 8.20000000e+01, 8.30000000e+01,\n",
       "        8.40000000e+01, 8.50000000e+01, 8.60000000e+01, 8.70000000e+01,\n",
       "        8.80000000e+01, 8.90000000e+01, 9.00000000e+01, 9.10000000e+01,\n",
       "        9.20000000e+01, 9.30000000e+01, 9.40000000e+01, 9.50000000e+01,\n",
       "        9.60000000e+01, 5.78270000e+04, 5.78280000e+04, 5.78290000e+04,\n",
       "        5.78310000e+04, 5.78320000e+04, 5.78330000e+04, 1.10031000e+05,\n",
       "        1.10033000e+05, 1.10034000e+05, 1.10035000e+05, 1.10036000e+05,\n",
       "        1.10037000e+05, 1.10038000e+05, 1.10039000e+05, 1.33127000e+05,\n",
       "        1.44260000e+05, 1.44262000e+05, 2.29007000e+05, 2.29009000e+05,\n",
       "        2.29011000e+05, 2.38959000e+05, 2.38961000e+05, 2.38974000e+05,\n",
       "        2.38977000e+05, 2.52597000e+05, 3.63538000e+05, 3.63540000e+05]),\n",
       " array([617896,      1,      1,      1,      1,  16743,  10228,   9055,\n",
       "          7192,   6703,   5452,   5284,   4589,   4399,   3930,   3665,\n",
       "          3142,   2881,   2565,   2380,   2078,   2116,   2052,   2004,\n",
       "          1917,   2074,   1951,   1928,   1692,   1495,   1320,   1202,\n",
       "          1053,    930,    830,    764,    690,    604,    535,    483,\n",
       "           426,    395,    399,    394,    353,    331,    294,    294,\n",
       "           301,    266,    222,    181,    159,    148,    136,    124,\n",
       "           112,     97,     88,     85,     73,     68,     62,     57,\n",
       "            55,     51,     48,     43,     38,     36,     35,     30,\n",
       "            24,     20,     17,     17,     13,      8,      8,      7,\n",
       "             7,      7,      5,      5,      5,      5,      4,      4,\n",
       "             4,      4,      4,      3,      3,      3,      2,      2,\n",
       "             2,      2,      2,      2,      1,      1,      3,      2,\n",
       "             1,      3,      2,      1,      2,      1,      1,      1,\n",
       "             2,      1,      1,      1,  18754,      5,  18749,  18752,\n",
       "             3,      1,      1,      1,      1,      5,      1,      5]))"
      ]
     },
     "execution_count": 69,
     "metadata": {},
     "output_type": "execute_result"
    }
   ],
   "source": [
    "np.unique(mp, return_counts = True)"
   ]
  },
  {
   "cell_type": "code",
   "execution_count": 70,
   "metadata": {},
   "outputs": [],
   "source": [
    "%matplotlib inline\n",
    "import matplotlib.pyplot as plt"
   ]
  },
  {
   "cell_type": "code",
   "execution_count": 71,
   "metadata": {},
   "outputs": [
    {
     "data": {
      "text/plain": [
       "Text(0.5, 0, 'Sample')"
      ]
     },
     "execution_count": 71,
     "metadata": {},
     "output_type": "execute_result"
    },
    {
     "data": {
      "image/png": "[encoded data removed]",
      "text/plain": [
       "<Figure size 1440x720 with 2 Axes>"
      ]
     },
     "metadata": {
      "needs_background": "light"
     },
     "output_type": "display_data"
    }
   ],
   "source": [
    "mp_adj = np.append(mp[0],np.zeros(m-1)+np.nan)\n",
    "\n",
    "fig, (ax1, ax2) = plt.subplots(2,1,sharex=True,figsize=(20,10))\n",
    "ax1.plot(np.arange(len(pattern)),pattern, label=\"Synthetic Data\")\n",
    "ax1.set_ylabel('Entire Sequence', size=22)\n",
    "\n",
    "ax2.plot(np.arange(len(mp_adj)),mp_adj, label=\"Matrix Profile\", color='red')\n",
    "ax2.set_ylabel('Matrix Profile', size=22)\n",
    "ax2.set_xlabel('Sample', size=22)"
   ]
  },
  {
   "cell_type": "code",
   "execution_count": 72,
   "metadata": {},
   "outputs": [
    {
     "data": {
      "text/plain": [
       "(array([0, 0, 0, ..., 0, 0, 0]),\n",
       " array([     0,      1,      2, ..., 397856, 397857, 397858]))"
      ]
     },
     "execution_count": 72,
     "metadata": {},
     "output_type": "execute_result"
    }
   ],
   "source": [
    "np.where([mp_adj == np.nanmax(mp_adj[100000:120000])])"
   ]
  },
  {
   "cell_type": "code",
   "execution_count": 36,
   "metadata": {},
   "outputs": [
    {
     "data": {
      "text/html": [
       "<div>\n",
       "<style scoped>\n",
       "    .dataframe tbody tr th:only-of-type {\n",
       "        vertical-align: middle;\n",
       "    }\n",
       "\n",
       "    .dataframe tbody tr th {\n",
       "        vertical-align: top;\n",
       "    }\n",
       "\n",
       "    .dataframe thead th {\n",
       "        text-align: right;\n",
       "    }\n",
       "</style>\n",
       "<table border=\"1\" class=\"dataframe\">\n",
       "  <thead>\n",
       "    <tr style=\"text-align: right;\">\n",
       "      <th></th>\n",
       "      <th>userID</th>\n",
       "      <th>time</th>\n",
       "      <th>links_workflow</th>\n",
       "      <th>gold_score</th>\n",
       "      <th>session</th>\n",
       "      <th>category2</th>\n",
       "    </tr>\n",
       "  </thead>\n",
       "  <tbody>\n",
       "    <tr>\n",
       "      <th>2459828</th>\n",
       "      <td>5209</td>\n",
       "      <td>2016-08-14 11:31:09</td>\n",
       "      <td>5.0</td>\n",
       "      <td>0.0</td>\n",
       "      <td>19</td>\n",
       "      <td>exploring</td>\n",
       "    </tr>\n",
       "    <tr>\n",
       "      <th>2476758</th>\n",
       "      <td>5209</td>\n",
       "      <td>2017-09-11 18:45:06</td>\n",
       "      <td>5.0</td>\n",
       "      <td>0.0</td>\n",
       "      <td>254</td>\n",
       "      <td>exploring</td>\n",
       "    </tr>\n",
       "    <tr>\n",
       "      <th>2477284</th>\n",
       "      <td>5209</td>\n",
       "      <td>2017-09-20 14:14:06</td>\n",
       "      <td>5.0</td>\n",
       "      <td>0.0</td>\n",
       "      <td>272</td>\n",
       "      <td>exploring</td>\n",
       "    </tr>\n",
       "  </tbody>\n",
       "</table>\n",
       "</div>"
      ],
      "text/plain": [
       "         userID                 time  links_workflow  gold_score  session  \\\n",
       "2459828    5209  2016-08-14 11:31:09             5.0         0.0       19   \n",
       "2476758    5209  2017-09-11 18:45:06             5.0         0.0      254   \n",
       "2477284    5209  2017-09-20 14:14:06             5.0         0.0      272   \n",
       "\n",
       "         category2  \n",
       "2459828  exploring  \n",
       "2476758  exploring  \n",
       "2477284  exploring  "
      ]
     },
     "execution_count": 36,
     "metadata": {},
     "output_type": "execute_result"
    }
   ],
   "source": [
    "df5.iloc[[109494, 111576, 112090],:]"
   ]
  },
  {
   "cell_type": "code",
   "execution_count": 37,
   "metadata": {},
   "outputs": [
    {
     "data": {
      "text/html": [
       "<div>\n",
       "<style scoped>\n",
       "    .dataframe tbody tr th:only-of-type {\n",
       "        vertical-align: middle;\n",
       "    }\n",
       "\n",
       "    .dataframe tbody tr th {\n",
       "        vertical-align: top;\n",
       "    }\n",
       "\n",
       "    .dataframe thead th {\n",
       "        text-align: right;\n",
       "    }\n",
       "</style>\n",
       "<table border=\"1\" class=\"dataframe\">\n",
       "  <thead>\n",
       "    <tr style=\"text-align: right;\">\n",
       "      <th></th>\n",
       "      <th>userID</th>\n",
       "      <th>time</th>\n",
       "      <th>links_workflow</th>\n",
       "      <th>gold_score</th>\n",
       "      <th>session</th>\n",
       "      <th>category2</th>\n",
       "    </tr>\n",
       "  </thead>\n",
       "  <tbody>\n",
       "    <tr>\n",
       "      <th>2459828</th>\n",
       "      <td>5209</td>\n",
       "      <td>2016-08-14 11:31:09</td>\n",
       "      <td>5.0</td>\n",
       "      <td>0.0</td>\n",
       "      <td>19</td>\n",
       "      <td>exploring</td>\n",
       "    </tr>\n",
       "    <tr>\n",
       "      <th>2459829</th>\n",
       "      <td>5209</td>\n",
       "      <td>2016-08-14 11:31:10</td>\n",
       "      <td>5.0</td>\n",
       "      <td>0.0</td>\n",
       "      <td>19</td>\n",
       "      <td>classify</td>\n",
       "    </tr>\n",
       "    <tr>\n",
       "      <th>2459830</th>\n",
       "      <td>5209</td>\n",
       "      <td>2016-08-14 11:31:21</td>\n",
       "      <td>5.0</td>\n",
       "      <td>0.0</td>\n",
       "      <td>19</td>\n",
       "      <td>classify</td>\n",
       "    </tr>\n",
       "    <tr>\n",
       "      <th>2459832</th>\n",
       "      <td>5209</td>\n",
       "      <td>2016-08-14 11:31:42</td>\n",
       "      <td>5.0</td>\n",
       "      <td>0.0</td>\n",
       "      <td>19</td>\n",
       "      <td>classify</td>\n",
       "    </tr>\n",
       "    <tr>\n",
       "      <th>2459833</th>\n",
       "      <td>5209</td>\n",
       "      <td>2016-08-14 11:31:53</td>\n",
       "      <td>5.0</td>\n",
       "      <td>0.0</td>\n",
       "      <td>19</td>\n",
       "      <td>classify</td>\n",
       "    </tr>\n",
       "    <tr>\n",
       "      <th>2459834</th>\n",
       "      <td>5209</td>\n",
       "      <td>2016-08-14 11:32:30</td>\n",
       "      <td>5.0</td>\n",
       "      <td>0.0</td>\n",
       "      <td>19</td>\n",
       "      <td>classify</td>\n",
       "    </tr>\n",
       "    <tr>\n",
       "      <th>2459835</th>\n",
       "      <td>5209</td>\n",
       "      <td>2016-08-14 11:32:50</td>\n",
       "      <td>5.0</td>\n",
       "      <td>0.0</td>\n",
       "      <td>19</td>\n",
       "      <td>classify</td>\n",
       "    </tr>\n",
       "    <tr>\n",
       "      <th>2459836</th>\n",
       "      <td>5209</td>\n",
       "      <td>2016-08-14 11:32:58</td>\n",
       "      <td>5.0</td>\n",
       "      <td>0.0</td>\n",
       "      <td>19</td>\n",
       "      <td>classify</td>\n",
       "    </tr>\n",
       "    <tr>\n",
       "      <th>2459837</th>\n",
       "      <td>5209</td>\n",
       "      <td>2016-08-14 11:33:12</td>\n",
       "      <td>5.0</td>\n",
       "      <td>0.0</td>\n",
       "      <td>19</td>\n",
       "      <td>classify</td>\n",
       "    </tr>\n",
       "    <tr>\n",
       "      <th>2459838</th>\n",
       "      <td>5209</td>\n",
       "      <td>2016-08-14 11:33:30</td>\n",
       "      <td>5.0</td>\n",
       "      <td>0.0</td>\n",
       "      <td>19</td>\n",
       "      <td>classify</td>\n",
       "    </tr>\n",
       "  </tbody>\n",
       "</table>\n",
       "</div>"
      ],
      "text/plain": [
       "         userID                 time  links_workflow  gold_score  session  \\\n",
       "2459828    5209  2016-08-14 11:31:09             5.0         0.0       19   \n",
       "2459829    5209  2016-08-14 11:31:10             5.0         0.0       19   \n",
       "2459830    5209  2016-08-14 11:31:21             5.0         0.0       19   \n",
       "2459832    5209  2016-08-14 11:31:42             5.0         0.0       19   \n",
       "2459833    5209  2016-08-14 11:31:53             5.0         0.0       19   \n",
       "2459834    5209  2016-08-14 11:32:30             5.0         0.0       19   \n",
       "2459835    5209  2016-08-14 11:32:50             5.0         0.0       19   \n",
       "2459836    5209  2016-08-14 11:32:58             5.0         0.0       19   \n",
       "2459837    5209  2016-08-14 11:33:12             5.0         0.0       19   \n",
       "2459838    5209  2016-08-14 11:33:30             5.0         0.0       19   \n",
       "\n",
       "         category2  \n",
       "2459828  exploring  \n",
       "2459829   classify  \n",
       "2459830   classify  \n",
       "2459832   classify  \n",
       "2459833   classify  \n",
       "2459834   classify  \n",
       "2459835   classify  \n",
       "2459836   classify  \n",
       "2459837   classify  \n",
       "2459838   classify  "
      ]
     },
     "execution_count": 37,
     "metadata": {},
     "output_type": "execute_result"
    }
   ],
   "source": [
    "df5.iloc[109494:109494+10,:]"
   ]
  },
  {
   "cell_type": "markdown",
   "metadata": {},
   "source": [
    "Create Matrixprofile for workflow 'n'"
   ]
  },
  {
   "cell_type": "code",
   "execution_count": 73,
   "metadata": {},
   "outputs": [],
   "source": [
    "def create_matrixprofile(df,n):\n",
    "    df_n = df[(df.links_workflow == n)]\n",
    "    print(df_n.userID.unique())\n",
    "    print(df_n['category2'].value_counts())\n",
    "    print(df_n.info())\n",
    "    my_list = [0]\n",
    "    #data1 = df_n.category2.values.tolist()\n",
    "    for i in range(0,len(df_n.category2.values)):\n",
    "        if df_n.category2.values[i] == 'classify':\n",
    "            my_list.append(my_list[-1]+3)\n",
    "        elif df_n.category2.values[i] == 'communal':\n",
    "            my_list.append(my_list[-1]+2)\n",
    "        elif df_n.category2.values[i] == 'exploring':\n",
    "            my_list.append(my_list[-1]+1)\n",
    "        elif df_n.category2.values[i] == 'learning':\n",
    "            my_list.append(my_list[-1]+0)\n",
    "        elif df_n.category2.values[i] == 'personal':\n",
    "            my_list.append(my_list[-1]-1)\n",
    "        elif df_n.category2.values[i] == 'socialize':\n",
    "            my_list.append(my_list[-1]-2)\n",
    "        elif df_n.category2.values[i] == 'view discussions':\n",
    "            my_list.append(my_list[-1]-3)\n",
    "    print(\"Creating matrixprofile...\")\n",
    "    my_listn = matrixProfile.to_np_array(my_list)\n",
    "    m = 10\n",
    "    pattern = my_listn\n",
    "    mp = matrixProfile.stomp(pattern,m)\n",
    "    print(\"Done\")\n",
    "    return mp"
   ]
  },
  {
   "cell_type": "code",
   "execution_count": null,
   "metadata": {},
   "outputs": [],
   "source": []
  },
  {
   "cell_type": "code",
   "execution_count": 74,
   "metadata": {},
   "outputs": [
    {
     "name": "stdout",
     "output_type": "stream",
     "text": [
      "[ 100423  103110 1036760 ...  997273  997501  999716]\n",
      "classify     898834\n",
      "exploring        40\n",
      "learning          2\n",
      "Name: category2, dtype: int64\n",
      "<class 'pandas.core.frame.DataFrame'>\n",
      "Int64Index: 898876 entries, 305 to 2698811\n",
      "Data columns (total 6 columns):\n",
      "userID            898876 non-null int64\n",
      "time              898876 non-null object\n",
      "links_workflow    898876 non-null float64\n",
      "gold_score        898876 non-null float64\n",
      "session           898876 non-null int64\n",
      "category2         898876 non-null object\n",
      "dtypes: float64(2), int64(2), object(2)\n",
      "memory usage: 48.0+ MB\n",
      "None\n",
      "Creating matrixprofile...\n"
     ]
    },
    {
     "ename": "KeyboardInterrupt",
     "evalue": "",
     "output_type": "error",
     "traceback": [
      "\u001b[0;31m---------------------------------------------------------------------------\u001b[0m",
      "\u001b[0;31mKeyboardInterrupt\u001b[0m                         Traceback (most recent call last)",
      "\u001b[0;32m<ipython-input-74-e9055aad54f6>\u001b[0m in \u001b[0;36m<module>\u001b[0;34m\u001b[0m\n\u001b[0;32m----> 1\u001b[0;31m \u001b[0mmp4\u001b[0m \u001b[0;34m=\u001b[0m \u001b[0mcreate_matrixprofile\u001b[0m\u001b[0;34m(\u001b[0m\u001b[0mdf_lite\u001b[0m\u001b[0;34m,\u001b[0m\u001b[0;36m4\u001b[0m\u001b[0;34m)\u001b[0m\u001b[0;34m\u001b[0m\u001b[0;34m\u001b[0m\u001b[0m\n\u001b[0m",
      "\u001b[0;32m<ipython-input-73-e9e16c1dcc81>\u001b[0m in \u001b[0;36mcreate_matrixprofile\u001b[0;34m(df, n)\u001b[0m\n\u001b[1;32m     25\u001b[0m     \u001b[0mm\u001b[0m \u001b[0;34m=\u001b[0m \u001b[0;36m10\u001b[0m\u001b[0;34m\u001b[0m\u001b[0;34m\u001b[0m\u001b[0m\n\u001b[1;32m     26\u001b[0m     \u001b[0mpattern\u001b[0m \u001b[0;34m=\u001b[0m \u001b[0mmy_listn\u001b[0m\u001b[0;34m\u001b[0m\u001b[0;34m\u001b[0m\u001b[0m\n\u001b[0;32m---> 27\u001b[0;31m     \u001b[0mmp\u001b[0m \u001b[0;34m=\u001b[0m \u001b[0mmatrixProfile\u001b[0m\u001b[0;34m.\u001b[0m\u001b[0mstomp\u001b[0m\u001b[0;34m(\u001b[0m\u001b[0mpattern\u001b[0m\u001b[0;34m,\u001b[0m\u001b[0mm\u001b[0m\u001b[0;34m)\u001b[0m\u001b[0;34m\u001b[0m\u001b[0;34m\u001b[0m\u001b[0m\n\u001b[0m\u001b[1;32m     28\u001b[0m     \u001b[0mprint\u001b[0m\u001b[0;34m(\u001b[0m\u001b[0;34m\"Done\"\u001b[0m\u001b[0;34m)\u001b[0m\u001b[0;34m\u001b[0m\u001b[0;34m\u001b[0m\u001b[0m\n\u001b[1;32m     29\u001b[0m     \u001b[0;32mreturn\u001b[0m \u001b[0mmp\u001b[0m\u001b[0;34m\u001b[0m\u001b[0;34m\u001b[0m\u001b[0m\n",
      "\u001b[0;32m~/anaconda3/lib/python3.7/site-packages/matrixprofile/matrixProfile.py\u001b[0m in \u001b[0;36mstomp\u001b[0;34m(tsA, m, tsB)\u001b[0m\n\u001b[1;32m    345\u001b[0m     \u001b[0mtsB\u001b[0m\u001b[0;34m:\u001b[0m \u001b[0mTime\u001b[0m \u001b[0mseries\u001b[0m \u001b[0mto\u001b[0m \u001b[0mcompare\u001b[0m \u001b[0mthe\u001b[0m \u001b[0mquery\u001b[0m \u001b[0magainst\u001b[0m\u001b[0;34m.\u001b[0m \u001b[0mNote\u001b[0m \u001b[0mthat\u001b[0m\u001b[0;34m,\u001b[0m \u001b[0;32mif\u001b[0m \u001b[0mno\u001b[0m \u001b[0mvalue\u001b[0m \u001b[0;32mis\u001b[0m \u001b[0mprovided\u001b[0m\u001b[0;34m,\u001b[0m \u001b[0mtsB\u001b[0m \u001b[0;34m=\u001b[0m \u001b[0mtsA\u001b[0m \u001b[0mby\u001b[0m \u001b[0mdefault\u001b[0m\u001b[0;34m.\u001b[0m\u001b[0;34m\u001b[0m\u001b[0;34m\u001b[0m\u001b[0m\n\u001b[1;32m    346\u001b[0m     \"\"\"\n\u001b[0;32m--> 347\u001b[0;31m     \u001b[0;32mreturn\u001b[0m \u001b[0m_matrixProfile_stomp\u001b[0m\u001b[0;34m(\u001b[0m\u001b[0mtsA\u001b[0m\u001b[0;34m,\u001b[0m\u001b[0mm\u001b[0m\u001b[0;34m,\u001b[0m\u001b[0morder\u001b[0m\u001b[0;34m.\u001b[0m\u001b[0mlinearOrder\u001b[0m\u001b[0;34m,\u001b[0m\u001b[0mdistanceProfile\u001b[0m\u001b[0;34m.\u001b[0m\u001b[0mSTOMPDistanceProfile\u001b[0m\u001b[0;34m,\u001b[0m\u001b[0mtsB\u001b[0m\u001b[0;34m)\u001b[0m\u001b[0;34m\u001b[0m\u001b[0;34m\u001b[0m\u001b[0m\n\u001b[0m\u001b[1;32m    348\u001b[0m \u001b[0;34m\u001b[0m\u001b[0m\n\u001b[1;32m    349\u001b[0m \u001b[0;34m\u001b[0m\u001b[0m\n",
      "\u001b[0;32m~/anaconda3/lib/python3.7/site-packages/matrixprofile/matrixProfile.py\u001b[0m in \u001b[0;36m_matrixProfile_stomp\u001b[0;34m(tsA, m, orderClass, distanceProfileFunction, tsB)\u001b[0m\n\u001b[1;32m    253\u001b[0m \u001b[0;34m\u001b[0m\u001b[0m\n\u001b[1;32m    254\u001b[0m         \u001b[0;31m#Update the matrix profile to include the new minimum values (where appropriate)\u001b[0m\u001b[0;34m\u001b[0m\u001b[0;34m\u001b[0m\u001b[0;34m\u001b[0m\u001b[0m\n\u001b[0;32m--> 255\u001b[0;31m         \u001b[0mmp\u001b[0m \u001b[0;34m=\u001b[0m \u001b[0mnp\u001b[0m\u001b[0;34m.\u001b[0m\u001b[0mminimum\u001b[0m\u001b[0;34m(\u001b[0m\u001b[0mmp\u001b[0m\u001b[0;34m,\u001b[0m\u001b[0mdistanceProfile\u001b[0m\u001b[0;34m)\u001b[0m\u001b[0;34m\u001b[0m\u001b[0;34m\u001b[0m\u001b[0m\n\u001b[0m\u001b[1;32m    256\u001b[0m         \u001b[0midx\u001b[0m \u001b[0;34m=\u001b[0m \u001b[0morder\u001b[0m\u001b[0;34m.\u001b[0m\u001b[0mnext\u001b[0m\u001b[0;34m(\u001b[0m\u001b[0;34m)\u001b[0m\u001b[0;34m\u001b[0m\u001b[0;34m\u001b[0m\u001b[0m\n\u001b[1;32m    257\u001b[0m \u001b[0;34m\u001b[0m\u001b[0m\n",
      "\u001b[0;31mKeyboardInterrupt\u001b[0m: "
     ]
    }
   ],
   "source": [
    "mp4 = create_matrixprofile(df_lite,4)"
   ]
  },
  {
   "cell_type": "code",
   "execution_count": null,
   "metadata": {},
   "outputs": [],
   "source": [
    "mp_adj = np.append(mp4[0],np.zeros(m-1)+np.nan)\n",
    "\n",
    "fig, (ax1, ax2) = plt.subplots(2,1,sharex=True,figsize=(20,10))\n",
    "ax1.plot(np.arange(len(pattern)),pattern, label=\"Synthetic Data\")\n",
    "ax1.set_ylabel('Entire Sequence', size=22)\n",
    "\n",
    "ax2.plot(np.arange(len(mp_adj)),mp_adj, label=\"Matrix Profile\", color='red')\n",
    "ax2.set_ylabel('Matrix Profile', size=22)\n",
    "ax2.set_xlabel('Sample', size=22)"
   ]
  },
  {
   "cell_type": "code",
   "execution_count": null,
   "metadata": {},
   "outputs": [],
   "source": [
    "np.where([mp_adj == np.nanmax(mp_adj[100000:120000])])"
   ]
  },
  {
   "cell_type": "markdown",
   "metadata": {},
   "source": [
    "Create Matrixprofile for workflow 3"
   ]
  },
  {
   "cell_type": "code",
   "execution_count": 42,
   "metadata": {},
   "outputs": [
    {
     "name": "stdout",
     "output_type": "stream",
     "text": [
      "[ 100423 1008979  102322 ...  997501  999701  999716]\n",
      "classify     675333\n",
      "exploring         7\n",
      "learning          1\n",
      "Name: category2, dtype: int64\n",
      "<class 'pandas.core.frame.DataFrame'>\n",
      "Int64Index: 675341 entries, 271 to 2698731\n",
      "Data columns (total 6 columns):\n",
      "userID            675341 non-null int64\n",
      "time              675341 non-null object\n",
      "links_workflow    675341 non-null float64\n",
      "gold_score        675341 non-null float64\n",
      "session           675341 non-null int64\n",
      "category2         675341 non-null object\n",
      "dtypes: float64(2), int64(2), object(2)\n",
      "memory usage: 36.1+ MB\n",
      "None\n",
      "Creating matrixprofile...\n"
     ]
    },
    {
     "ename": "ValueError",
     "evalue": "negative dimensions are not allowed",
     "output_type": "error",
     "traceback": [
      "\u001b[0;31m---------------------------------------------------------------------------\u001b[0m",
      "\u001b[0;31mValueError\u001b[0m                                Traceback (most recent call last)",
      "\u001b[0;32m<ipython-input-42-1f723dbc2839>\u001b[0m in \u001b[0;36m<module>\u001b[0;34m\u001b[0m\n\u001b[0;32m----> 1\u001b[0;31m \u001b[0mmp3\u001b[0m \u001b[0;34m=\u001b[0m \u001b[0mcreate_matrixprofile\u001b[0m\u001b[0;34m(\u001b[0m\u001b[0mdf_lite\u001b[0m\u001b[0;34m,\u001b[0m\u001b[0;36m3\u001b[0m\u001b[0;34m)\u001b[0m\u001b[0;34m\u001b[0m\u001b[0;34m\u001b[0m\u001b[0m\n\u001b[0m",
      "\u001b[0;32m<ipython-input-38-8bbb0cc214fd>\u001b[0m in \u001b[0;36mcreate_matrixprofile\u001b[0;34m(df, n)\u001b[0m\n\u001b[1;32m     25\u001b[0m     \u001b[0mm\u001b[0m \u001b[0;34m=\u001b[0m \u001b[0;36m10\u001b[0m\u001b[0;34m\u001b[0m\u001b[0;34m\u001b[0m\u001b[0m\n\u001b[1;32m     26\u001b[0m     \u001b[0mpattern\u001b[0m \u001b[0;34m=\u001b[0m \u001b[0mmy_listn\u001b[0m\u001b[0;34m\u001b[0m\u001b[0;34m\u001b[0m\u001b[0m\n\u001b[0;32m---> 27\u001b[0;31m     \u001b[0mmp\u001b[0m \u001b[0;34m=\u001b[0m \u001b[0mmatrixProfile\u001b[0m\u001b[0;34m.\u001b[0m\u001b[0mstomp\u001b[0m\u001b[0;34m(\u001b[0m\u001b[0mpattern\u001b[0m\u001b[0;34m,\u001b[0m\u001b[0mm\u001b[0m\u001b[0;34m)\u001b[0m\u001b[0;34m\u001b[0m\u001b[0;34m\u001b[0m\u001b[0m\n\u001b[0m\u001b[1;32m     28\u001b[0m     \u001b[0mprint\u001b[0m\u001b[0;34m(\u001b[0m\u001b[0;34m\"Done\"\u001b[0m\u001b[0;34m)\u001b[0m\u001b[0;34m\u001b[0m\u001b[0;34m\u001b[0m\u001b[0m\n\u001b[1;32m     29\u001b[0m     \u001b[0;32mreturn\u001b[0m \u001b[0mmp\u001b[0m\u001b[0;34m\u001b[0m\u001b[0;34m\u001b[0m\u001b[0m\n",
      "\u001b[0;32m~/anaconda3/lib/python3.7/site-packages/matrixprofile/matrixProfile.py\u001b[0m in \u001b[0;36mstomp\u001b[0;34m(tsA, m, tsB)\u001b[0m\n\u001b[1;32m    345\u001b[0m     \u001b[0mtsB\u001b[0m\u001b[0;34m:\u001b[0m \u001b[0mTime\u001b[0m \u001b[0mseries\u001b[0m \u001b[0mto\u001b[0m \u001b[0mcompare\u001b[0m \u001b[0mthe\u001b[0m \u001b[0mquery\u001b[0m \u001b[0magainst\u001b[0m\u001b[0;34m.\u001b[0m \u001b[0mNote\u001b[0m \u001b[0mthat\u001b[0m\u001b[0;34m,\u001b[0m \u001b[0;32mif\u001b[0m \u001b[0mno\u001b[0m \u001b[0mvalue\u001b[0m \u001b[0;32mis\u001b[0m \u001b[0mprovided\u001b[0m\u001b[0;34m,\u001b[0m \u001b[0mtsB\u001b[0m \u001b[0;34m=\u001b[0m \u001b[0mtsA\u001b[0m \u001b[0mby\u001b[0m \u001b[0mdefault\u001b[0m\u001b[0;34m.\u001b[0m\u001b[0;34m\u001b[0m\u001b[0;34m\u001b[0m\u001b[0m\n\u001b[1;32m    346\u001b[0m     \"\"\"\n\u001b[0;32m--> 347\u001b[0;31m     \u001b[0;32mreturn\u001b[0m \u001b[0m_matrixProfile_stomp\u001b[0m\u001b[0;34m(\u001b[0m\u001b[0mtsA\u001b[0m\u001b[0;34m,\u001b[0m\u001b[0mm\u001b[0m\u001b[0;34m,\u001b[0m\u001b[0morder\u001b[0m\u001b[0;34m.\u001b[0m\u001b[0mlinearOrder\u001b[0m\u001b[0;34m,\u001b[0m\u001b[0mdistanceProfile\u001b[0m\u001b[0;34m.\u001b[0m\u001b[0mSTOMPDistanceProfile\u001b[0m\u001b[0;34m,\u001b[0m\u001b[0mtsB\u001b[0m\u001b[0;34m)\u001b[0m\u001b[0;34m\u001b[0m\u001b[0;34m\u001b[0m\u001b[0m\n\u001b[0m\u001b[1;32m    348\u001b[0m \u001b[0;34m\u001b[0m\u001b[0m\n\u001b[1;32m    349\u001b[0m \u001b[0;34m\u001b[0m\u001b[0m\n",
      "\u001b[0;32m~/anaconda3/lib/python3.7/site-packages/matrixprofile/matrixProfile.py\u001b[0m in \u001b[0;36m_matrixProfile_stomp\u001b[0;34m(tsA, m, orderClass, distanceProfileFunction, tsB)\u001b[0m\n\u001b[1;32m    219\u001b[0m \u001b[0;32mdef\u001b[0m \u001b[0m_matrixProfile_stomp\u001b[0m\u001b[0;34m(\u001b[0m\u001b[0mtsA\u001b[0m\u001b[0;34m,\u001b[0m\u001b[0mm\u001b[0m\u001b[0;34m,\u001b[0m\u001b[0morderClass\u001b[0m\u001b[0;34m,\u001b[0m\u001b[0mdistanceProfileFunction\u001b[0m\u001b[0;34m,\u001b[0m\u001b[0mtsB\u001b[0m\u001b[0;34m=\u001b[0m\u001b[0;32mNone\u001b[0m\u001b[0;34m)\u001b[0m\u001b[0;34m:\u001b[0m\u001b[0;34m\u001b[0m\u001b[0;34m\u001b[0m\u001b[0m\n\u001b[1;32m    220\u001b[0m     \u001b[0morder\u001b[0m \u001b[0;34m=\u001b[0m \u001b[0morderClass\u001b[0m\u001b[0;34m(\u001b[0m\u001b[0mlen\u001b[0m\u001b[0;34m(\u001b[0m\u001b[0mtsA\u001b[0m\u001b[0;34m)\u001b[0m\u001b[0;34m-\u001b[0m\u001b[0mm\u001b[0m\u001b[0;34m+\u001b[0m\u001b[0;36m1\u001b[0m\u001b[0;34m)\u001b[0m\u001b[0;34m\u001b[0m\u001b[0;34m\u001b[0m\u001b[0m\n\u001b[0;32m--> 221\u001b[0;31m     \u001b[0mmp\u001b[0m\u001b[0;34m,\u001b[0m \u001b[0mmpIndex\u001b[0m \u001b[0;34m=\u001b[0m \u001b[0m_self_join_or_not_preprocess\u001b[0m\u001b[0;34m(\u001b[0m\u001b[0mtsA\u001b[0m\u001b[0;34m,\u001b[0m \u001b[0mtsB\u001b[0m\u001b[0;34m,\u001b[0m \u001b[0mm\u001b[0m\u001b[0;34m)\u001b[0m\u001b[0;34m\u001b[0m\u001b[0;34m\u001b[0m\u001b[0m\n\u001b[0m\u001b[1;32m    222\u001b[0m \u001b[0;34m\u001b[0m\u001b[0m\n\u001b[1;32m    223\u001b[0m     \u001b[0;32mif\u001b[0m \u001b[0;32mnot\u001b[0m \u001b[0mis_array_like\u001b[0m\u001b[0;34m(\u001b[0m\u001b[0mtsB\u001b[0m\u001b[0;34m)\u001b[0m\u001b[0;34m:\u001b[0m\u001b[0;34m\u001b[0m\u001b[0;34m\u001b[0m\u001b[0m\n",
      "\u001b[0;32m~/anaconda3/lib/python3.7/site-packages/matrixprofile/matrixProfile.py\u001b[0m in \u001b[0;36m_self_join_or_not_preprocess\u001b[0;34m(tsA, tsB, m)\u001b[0m\n\u001b[1;32m     86\u001b[0m     \u001b[0mshape\u001b[0m \u001b[0;34m=\u001b[0m \u001b[0mn\u001b[0m \u001b[0;34m-\u001b[0m \u001b[0mm\u001b[0m \u001b[0;34m+\u001b[0m \u001b[0;36m1\u001b[0m\u001b[0;34m\u001b[0m\u001b[0;34m\u001b[0m\u001b[0m\n\u001b[1;32m     87\u001b[0m \u001b[0;34m\u001b[0m\u001b[0m\n\u001b[0;32m---> 88\u001b[0;31m     \u001b[0;32mreturn\u001b[0m \u001b[0;34m(\u001b[0m\u001b[0mnp\u001b[0m\u001b[0;34m.\u001b[0m\u001b[0mfull\u001b[0m\u001b[0;34m(\u001b[0m\u001b[0mshape\u001b[0m\u001b[0;34m,\u001b[0m \u001b[0mnp\u001b[0m\u001b[0;34m.\u001b[0m\u001b[0minf\u001b[0m\u001b[0;34m)\u001b[0m\u001b[0;34m,\u001b[0m \u001b[0mnp\u001b[0m\u001b[0;34m.\u001b[0m\u001b[0mfull\u001b[0m\u001b[0;34m(\u001b[0m\u001b[0mshape\u001b[0m\u001b[0;34m,\u001b[0m \u001b[0mnp\u001b[0m\u001b[0;34m.\u001b[0m\u001b[0minf\u001b[0m\u001b[0;34m)\u001b[0m\u001b[0;34m)\u001b[0m\u001b[0;34m\u001b[0m\u001b[0;34m\u001b[0m\u001b[0m\n\u001b[0m\u001b[1;32m     89\u001b[0m \u001b[0;34m\u001b[0m\u001b[0m\n\u001b[1;32m     90\u001b[0m \u001b[0;32mdef\u001b[0m \u001b[0m_matrixProfile\u001b[0m\u001b[0;34m(\u001b[0m\u001b[0mtsA\u001b[0m\u001b[0;34m,\u001b[0m\u001b[0mm\u001b[0m\u001b[0;34m,\u001b[0m\u001b[0morderClass\u001b[0m\u001b[0;34m,\u001b[0m\u001b[0mdistanceProfileFunction\u001b[0m\u001b[0;34m,\u001b[0m\u001b[0mtsB\u001b[0m\u001b[0;34m=\u001b[0m\u001b[0;32mNone\u001b[0m\u001b[0;34m)\u001b[0m\u001b[0;34m:\u001b[0m\u001b[0;34m\u001b[0m\u001b[0;34m\u001b[0m\u001b[0m\n",
      "\u001b[0;32m~/anaconda3/lib/python3.7/site-packages/numpy/core/numeric.py\u001b[0m in \u001b[0;36mfull\u001b[0;34m(shape, fill_value, dtype, order)\u001b[0m\n\u001b[1;32m    330\u001b[0m     \u001b[0;32mif\u001b[0m \u001b[0mdtype\u001b[0m \u001b[0;32mis\u001b[0m \u001b[0;32mNone\u001b[0m\u001b[0;34m:\u001b[0m\u001b[0;34m\u001b[0m\u001b[0;34m\u001b[0m\u001b[0m\n\u001b[1;32m    331\u001b[0m         \u001b[0mdtype\u001b[0m \u001b[0;34m=\u001b[0m \u001b[0marray\u001b[0m\u001b[0;34m(\u001b[0m\u001b[0mfill_value\u001b[0m\u001b[0;34m)\u001b[0m\u001b[0;34m.\u001b[0m\u001b[0mdtype\u001b[0m\u001b[0;34m\u001b[0m\u001b[0;34m\u001b[0m\u001b[0m\n\u001b[0;32m--> 332\u001b[0;31m     \u001b[0ma\u001b[0m \u001b[0;34m=\u001b[0m \u001b[0mempty\u001b[0m\u001b[0;34m(\u001b[0m\u001b[0mshape\u001b[0m\u001b[0;34m,\u001b[0m \u001b[0mdtype\u001b[0m\u001b[0;34m,\u001b[0m \u001b[0morder\u001b[0m\u001b[0;34m)\u001b[0m\u001b[0;34m\u001b[0m\u001b[0;34m\u001b[0m\u001b[0m\n\u001b[0m\u001b[1;32m    333\u001b[0m     \u001b[0mmultiarray\u001b[0m\u001b[0;34m.\u001b[0m\u001b[0mcopyto\u001b[0m\u001b[0;34m(\u001b[0m\u001b[0ma\u001b[0m\u001b[0;34m,\u001b[0m \u001b[0mfill_value\u001b[0m\u001b[0;34m,\u001b[0m \u001b[0mcasting\u001b[0m\u001b[0;34m=\u001b[0m\u001b[0;34m'unsafe'\u001b[0m\u001b[0;34m)\u001b[0m\u001b[0;34m\u001b[0m\u001b[0;34m\u001b[0m\u001b[0m\n\u001b[1;32m    334\u001b[0m     \u001b[0;32mreturn\u001b[0m \u001b[0ma\u001b[0m\u001b[0;34m\u001b[0m\u001b[0;34m\u001b[0m\u001b[0m\n",
      "\u001b[0;31mValueError\u001b[0m: negative dimensions are not allowed"
     ]
    }
   ],
   "source": [
    "mp3 = create_matrixprofile(df_lite,3)"
   ]
  },
  {
   "cell_type": "code",
   "execution_count": null,
   "metadata": {},
   "outputs": [],
   "source": [
    "mp_adj = np.append(mp3[0],np.zeros(m-1)+np.nan)\n",
    "\n",
    "fig, (ax1, ax2) = plt.subplots(2,1,sharex=True,figsize=(20,10))\n",
    "ax1.plot(np.arange(len(pattern)),pattern, label=\"Synthetic Data\")\n",
    "ax1.set_ylabel('Entire Sequence', size=22)\n",
    "\n",
    "ax2.plot(np.arange(len(mp_adj)),mp_adj, label=\"Matrix Profile\", color='red')\n",
    "ax2.set_ylabel('Matrix Profile', size=22)\n",
    "ax2.set_xlabel('Sample', size=22)"
   ]
  },
  {
   "cell_type": "markdown",
   "metadata": {},
   "source": [
    "Create Matrixprofile for workflow 2"
   ]
  },
  {
   "cell_type": "code",
   "execution_count": 41,
   "metadata": {},
   "outputs": [
    {
     "name": "stdout",
     "output_type": "stream",
     "text": [
      "[1001237  100423 1008979 ...  999682  999701  999716]\n",
      "classify     397853\n",
      "exploring        13\n",
      "learning          1\n",
      "Name: category2, dtype: int64\n",
      "<class 'pandas.core.frame.DataFrame'>\n",
      "Int64Index: 397867 entries, 92 to 2698629\n",
      "Data columns (total 6 columns):\n",
      "userID            397867 non-null int64\n",
      "time              397867 non-null object\n",
      "links_workflow    397867 non-null float64\n",
      "gold_score        397867 non-null float64\n",
      "session           397867 non-null int64\n",
      "category2         397867 non-null object\n",
      "dtypes: float64(2), int64(2), object(2)\n",
      "memory usage: 21.2+ MB\n",
      "None\n",
      "Creating matrixprofile...\n"
     ]
    },
    {
     "ename": "ValueError",
     "evalue": "negative dimensions are not allowed",
     "output_type": "error",
     "traceback": [
      "\u001b[0;31m---------------------------------------------------------------------------\u001b[0m",
      "\u001b[0;31mValueError\u001b[0m                                Traceback (most recent call last)",
      "\u001b[0;32m<ipython-input-41-5def030903b2>\u001b[0m in \u001b[0;36m<module>\u001b[0;34m\u001b[0m\n\u001b[0;32m----> 1\u001b[0;31m \u001b[0mmp2\u001b[0m \u001b[0;34m=\u001b[0m \u001b[0mcreate_matrixprofile\u001b[0m\u001b[0;34m(\u001b[0m\u001b[0mdf_lite\u001b[0m\u001b[0;34m,\u001b[0m\u001b[0;36m2\u001b[0m\u001b[0;34m)\u001b[0m\u001b[0;34m\u001b[0m\u001b[0;34m\u001b[0m\u001b[0m\n\u001b[0m",
      "\u001b[0;32m<ipython-input-38-8bbb0cc214fd>\u001b[0m in \u001b[0;36mcreate_matrixprofile\u001b[0;34m(df, n)\u001b[0m\n\u001b[1;32m     25\u001b[0m     \u001b[0mm\u001b[0m \u001b[0;34m=\u001b[0m \u001b[0;36m10\u001b[0m\u001b[0;34m\u001b[0m\u001b[0;34m\u001b[0m\u001b[0m\n\u001b[1;32m     26\u001b[0m     \u001b[0mpattern\u001b[0m \u001b[0;34m=\u001b[0m \u001b[0mmy_listn\u001b[0m\u001b[0;34m\u001b[0m\u001b[0;34m\u001b[0m\u001b[0m\n\u001b[0;32m---> 27\u001b[0;31m     \u001b[0mmp\u001b[0m \u001b[0;34m=\u001b[0m \u001b[0mmatrixProfile\u001b[0m\u001b[0;34m.\u001b[0m\u001b[0mstomp\u001b[0m\u001b[0;34m(\u001b[0m\u001b[0mpattern\u001b[0m\u001b[0;34m,\u001b[0m\u001b[0mm\u001b[0m\u001b[0;34m)\u001b[0m\u001b[0;34m\u001b[0m\u001b[0;34m\u001b[0m\u001b[0m\n\u001b[0m\u001b[1;32m     28\u001b[0m     \u001b[0mprint\u001b[0m\u001b[0;34m(\u001b[0m\u001b[0;34m\"Done\"\u001b[0m\u001b[0;34m)\u001b[0m\u001b[0;34m\u001b[0m\u001b[0;34m\u001b[0m\u001b[0m\n\u001b[1;32m     29\u001b[0m     \u001b[0;32mreturn\u001b[0m \u001b[0mmp\u001b[0m\u001b[0;34m\u001b[0m\u001b[0;34m\u001b[0m\u001b[0m\n",
      "\u001b[0;32m~/anaconda3/lib/python3.7/site-packages/matrixprofile/matrixProfile.py\u001b[0m in \u001b[0;36mstomp\u001b[0;34m(tsA, m, tsB)\u001b[0m\n\u001b[1;32m    345\u001b[0m     \u001b[0mtsB\u001b[0m\u001b[0;34m:\u001b[0m \u001b[0mTime\u001b[0m \u001b[0mseries\u001b[0m \u001b[0mto\u001b[0m \u001b[0mcompare\u001b[0m \u001b[0mthe\u001b[0m \u001b[0mquery\u001b[0m \u001b[0magainst\u001b[0m\u001b[0;34m.\u001b[0m \u001b[0mNote\u001b[0m \u001b[0mthat\u001b[0m\u001b[0;34m,\u001b[0m \u001b[0;32mif\u001b[0m \u001b[0mno\u001b[0m \u001b[0mvalue\u001b[0m \u001b[0;32mis\u001b[0m \u001b[0mprovided\u001b[0m\u001b[0;34m,\u001b[0m \u001b[0mtsB\u001b[0m \u001b[0;34m=\u001b[0m \u001b[0mtsA\u001b[0m \u001b[0mby\u001b[0m \u001b[0mdefault\u001b[0m\u001b[0;34m.\u001b[0m\u001b[0;34m\u001b[0m\u001b[0;34m\u001b[0m\u001b[0m\n\u001b[1;32m    346\u001b[0m     \"\"\"\n\u001b[0;32m--> 347\u001b[0;31m     \u001b[0;32mreturn\u001b[0m \u001b[0m_matrixProfile_stomp\u001b[0m\u001b[0;34m(\u001b[0m\u001b[0mtsA\u001b[0m\u001b[0;34m,\u001b[0m\u001b[0mm\u001b[0m\u001b[0;34m,\u001b[0m\u001b[0morder\u001b[0m\u001b[0;34m.\u001b[0m\u001b[0mlinearOrder\u001b[0m\u001b[0;34m,\u001b[0m\u001b[0mdistanceProfile\u001b[0m\u001b[0;34m.\u001b[0m\u001b[0mSTOMPDistanceProfile\u001b[0m\u001b[0;34m,\u001b[0m\u001b[0mtsB\u001b[0m\u001b[0;34m)\u001b[0m\u001b[0;34m\u001b[0m\u001b[0;34m\u001b[0m\u001b[0m\n\u001b[0m\u001b[1;32m    348\u001b[0m \u001b[0;34m\u001b[0m\u001b[0m\n\u001b[1;32m    349\u001b[0m \u001b[0;34m\u001b[0m\u001b[0m\n",
      "\u001b[0;32m~/anaconda3/lib/python3.7/site-packages/matrixprofile/matrixProfile.py\u001b[0m in \u001b[0;36m_matrixProfile_stomp\u001b[0;34m(tsA, m, orderClass, distanceProfileFunction, tsB)\u001b[0m\n\u001b[1;32m    219\u001b[0m \u001b[0;32mdef\u001b[0m \u001b[0m_matrixProfile_stomp\u001b[0m\u001b[0;34m(\u001b[0m\u001b[0mtsA\u001b[0m\u001b[0;34m,\u001b[0m\u001b[0mm\u001b[0m\u001b[0;34m,\u001b[0m\u001b[0morderClass\u001b[0m\u001b[0;34m,\u001b[0m\u001b[0mdistanceProfileFunction\u001b[0m\u001b[0;34m,\u001b[0m\u001b[0mtsB\u001b[0m\u001b[0;34m=\u001b[0m\u001b[0;32mNone\u001b[0m\u001b[0;34m)\u001b[0m\u001b[0;34m:\u001b[0m\u001b[0;34m\u001b[0m\u001b[0;34m\u001b[0m\u001b[0m\n\u001b[1;32m    220\u001b[0m     \u001b[0morder\u001b[0m \u001b[0;34m=\u001b[0m \u001b[0morderClass\u001b[0m\u001b[0;34m(\u001b[0m\u001b[0mlen\u001b[0m\u001b[0;34m(\u001b[0m\u001b[0mtsA\u001b[0m\u001b[0;34m)\u001b[0m\u001b[0;34m-\u001b[0m\u001b[0mm\u001b[0m\u001b[0;34m+\u001b[0m\u001b[0;36m1\u001b[0m\u001b[0;34m)\u001b[0m\u001b[0;34m\u001b[0m\u001b[0;34m\u001b[0m\u001b[0m\n\u001b[0;32m--> 221\u001b[0;31m     \u001b[0mmp\u001b[0m\u001b[0;34m,\u001b[0m \u001b[0mmpIndex\u001b[0m \u001b[0;34m=\u001b[0m \u001b[0m_self_join_or_not_preprocess\u001b[0m\u001b[0;34m(\u001b[0m\u001b[0mtsA\u001b[0m\u001b[0;34m,\u001b[0m \u001b[0mtsB\u001b[0m\u001b[0;34m,\u001b[0m \u001b[0mm\u001b[0m\u001b[0;34m)\u001b[0m\u001b[0;34m\u001b[0m\u001b[0;34m\u001b[0m\u001b[0m\n\u001b[0m\u001b[1;32m    222\u001b[0m \u001b[0;34m\u001b[0m\u001b[0m\n\u001b[1;32m    223\u001b[0m     \u001b[0;32mif\u001b[0m \u001b[0;32mnot\u001b[0m \u001b[0mis_array_like\u001b[0m\u001b[0;34m(\u001b[0m\u001b[0mtsB\u001b[0m\u001b[0;34m)\u001b[0m\u001b[0;34m:\u001b[0m\u001b[0;34m\u001b[0m\u001b[0;34m\u001b[0m\u001b[0m\n",
      "\u001b[0;32m~/anaconda3/lib/python3.7/site-packages/matrixprofile/matrixProfile.py\u001b[0m in \u001b[0;36m_self_join_or_not_preprocess\u001b[0;34m(tsA, tsB, m)\u001b[0m\n\u001b[1;32m     86\u001b[0m     \u001b[0mshape\u001b[0m \u001b[0;34m=\u001b[0m \u001b[0mn\u001b[0m \u001b[0;34m-\u001b[0m \u001b[0mm\u001b[0m \u001b[0;34m+\u001b[0m \u001b[0;36m1\u001b[0m\u001b[0;34m\u001b[0m\u001b[0;34m\u001b[0m\u001b[0m\n\u001b[1;32m     87\u001b[0m \u001b[0;34m\u001b[0m\u001b[0m\n\u001b[0;32m---> 88\u001b[0;31m     \u001b[0;32mreturn\u001b[0m \u001b[0;34m(\u001b[0m\u001b[0mnp\u001b[0m\u001b[0;34m.\u001b[0m\u001b[0mfull\u001b[0m\u001b[0;34m(\u001b[0m\u001b[0mshape\u001b[0m\u001b[0;34m,\u001b[0m \u001b[0mnp\u001b[0m\u001b[0;34m.\u001b[0m\u001b[0minf\u001b[0m\u001b[0;34m)\u001b[0m\u001b[0;34m,\u001b[0m \u001b[0mnp\u001b[0m\u001b[0;34m.\u001b[0m\u001b[0mfull\u001b[0m\u001b[0;34m(\u001b[0m\u001b[0mshape\u001b[0m\u001b[0;34m,\u001b[0m \u001b[0mnp\u001b[0m\u001b[0;34m.\u001b[0m\u001b[0minf\u001b[0m\u001b[0;34m)\u001b[0m\u001b[0;34m)\u001b[0m\u001b[0;34m\u001b[0m\u001b[0;34m\u001b[0m\u001b[0m\n\u001b[0m\u001b[1;32m     89\u001b[0m \u001b[0;34m\u001b[0m\u001b[0m\n\u001b[1;32m     90\u001b[0m \u001b[0;32mdef\u001b[0m \u001b[0m_matrixProfile\u001b[0m\u001b[0;34m(\u001b[0m\u001b[0mtsA\u001b[0m\u001b[0;34m,\u001b[0m\u001b[0mm\u001b[0m\u001b[0;34m,\u001b[0m\u001b[0morderClass\u001b[0m\u001b[0;34m,\u001b[0m\u001b[0mdistanceProfileFunction\u001b[0m\u001b[0;34m,\u001b[0m\u001b[0mtsB\u001b[0m\u001b[0;34m=\u001b[0m\u001b[0;32mNone\u001b[0m\u001b[0;34m)\u001b[0m\u001b[0;34m:\u001b[0m\u001b[0;34m\u001b[0m\u001b[0;34m\u001b[0m\u001b[0m\n",
      "\u001b[0;32m~/anaconda3/lib/python3.7/site-packages/numpy/core/numeric.py\u001b[0m in \u001b[0;36mfull\u001b[0;34m(shape, fill_value, dtype, order)\u001b[0m\n\u001b[1;32m    330\u001b[0m     \u001b[0;32mif\u001b[0m \u001b[0mdtype\u001b[0m \u001b[0;32mis\u001b[0m \u001b[0;32mNone\u001b[0m\u001b[0;34m:\u001b[0m\u001b[0;34m\u001b[0m\u001b[0;34m\u001b[0m\u001b[0m\n\u001b[1;32m    331\u001b[0m         \u001b[0mdtype\u001b[0m \u001b[0;34m=\u001b[0m \u001b[0marray\u001b[0m\u001b[0;34m(\u001b[0m\u001b[0mfill_value\u001b[0m\u001b[0;34m)\u001b[0m\u001b[0;34m.\u001b[0m\u001b[0mdtype\u001b[0m\u001b[0;34m\u001b[0m\u001b[0;34m\u001b[0m\u001b[0m\n\u001b[0;32m--> 332\u001b[0;31m     \u001b[0ma\u001b[0m \u001b[0;34m=\u001b[0m \u001b[0mempty\u001b[0m\u001b[0;34m(\u001b[0m\u001b[0mshape\u001b[0m\u001b[0;34m,\u001b[0m \u001b[0mdtype\u001b[0m\u001b[0;34m,\u001b[0m \u001b[0morder\u001b[0m\u001b[0;34m)\u001b[0m\u001b[0;34m\u001b[0m\u001b[0;34m\u001b[0m\u001b[0m\n\u001b[0m\u001b[1;32m    333\u001b[0m     \u001b[0mmultiarray\u001b[0m\u001b[0;34m.\u001b[0m\u001b[0mcopyto\u001b[0m\u001b[0;34m(\u001b[0m\u001b[0ma\u001b[0m\u001b[0;34m,\u001b[0m \u001b[0mfill_value\u001b[0m\u001b[0;34m,\u001b[0m \u001b[0mcasting\u001b[0m\u001b[0;34m=\u001b[0m\u001b[0;34m'unsafe'\u001b[0m\u001b[0;34m)\u001b[0m\u001b[0;34m\u001b[0m\u001b[0;34m\u001b[0m\u001b[0m\n\u001b[1;32m    334\u001b[0m     \u001b[0;32mreturn\u001b[0m \u001b[0ma\u001b[0m\u001b[0;34m\u001b[0m\u001b[0;34m\u001b[0m\u001b[0m\n",
      "\u001b[0;31mValueError\u001b[0m: negative dimensions are not allowed"
     ]
    }
   ],
   "source": [
    "mp2 = create_matrixprofile(df_lite,2)"
   ]
  },
  {
   "cell_type": "code",
   "execution_count": null,
   "metadata": {},
   "outputs": [],
   "source": [
    "mp_adj = np.append(mp2[0],np.zeros(m-1)+np.nan)\n",
    "\n",
    "fig, (ax1, ax2) = plt.subplots(2,1,sharex=True,figsize=(20,10))\n",
    "ax1.plot(np.arange(len(pattern)),pattern, label=\"Synthetic Data\")\n",
    "ax1.set_ylabel('Entire Sequence', size=22)\n",
    "\n",
    "ax2.plot(np.arange(len(mp_adj)),mp_adj, label=\"Matrix Profile\", color='red')\n",
    "ax2.set_ylabel('Matrix Profile', size=22)\n",
    "ax2.set_xlabel('Sample', size=22)"
   ]
  },
  {
   "cell_type": "markdown",
   "metadata": {},
   "source": [
    "Create matrixprofile for workflow 1"
   ]
  },
  {
   "cell_type": "code",
   "execution_count": 39,
   "metadata": {},
   "outputs": [
    {
     "name": "stdout",
     "output_type": "stream",
     "text": [
      "[1000845 1001237  100423 ...  999682  999701  999716]\n",
      "classify     437201\n",
      "learning          8\n",
      "exploring         5\n",
      "Name: category2, dtype: int64\n",
      "<class 'pandas.core.frame.DataFrame'>\n",
      "Int64Index: 437214 entries, 5 to 2698595\n",
      "Data columns (total 6 columns):\n",
      "userID            437214 non-null int64\n",
      "time              437214 non-null object\n",
      "links_workflow    437214 non-null float64\n",
      "gold_score        437214 non-null float64\n",
      "session           437214 non-null int64\n",
      "category2         437214 non-null object\n",
      "dtypes: float64(2), int64(2), object(2)\n",
      "memory usage: 23.3+ MB\n",
      "None\n",
      "Creating matrixprofile...\n"
     ]
    },
    {
     "ename": "ValueError",
     "evalue": "negative dimensions are not allowed",
     "output_type": "error",
     "traceback": [
      "\u001b[0;31m---------------------------------------------------------------------------\u001b[0m",
      "\u001b[0;31mValueError\u001b[0m                                Traceback (most recent call last)",
      "\u001b[0;32m<ipython-input-39-af736ccb4f77>\u001b[0m in \u001b[0;36m<module>\u001b[0;34m\u001b[0m\n\u001b[0;32m----> 1\u001b[0;31m \u001b[0mmp1\u001b[0m \u001b[0;34m=\u001b[0m \u001b[0mcreate_matrixprofile\u001b[0m\u001b[0;34m(\u001b[0m\u001b[0mdf_lite\u001b[0m\u001b[0;34m,\u001b[0m\u001b[0;36m1\u001b[0m\u001b[0;34m)\u001b[0m\u001b[0;34m\u001b[0m\u001b[0;34m\u001b[0m\u001b[0m\n\u001b[0m",
      "\u001b[0;32m<ipython-input-38-8bbb0cc214fd>\u001b[0m in \u001b[0;36mcreate_matrixprofile\u001b[0;34m(df, n)\u001b[0m\n\u001b[1;32m     25\u001b[0m     \u001b[0mm\u001b[0m \u001b[0;34m=\u001b[0m \u001b[0;36m10\u001b[0m\u001b[0;34m\u001b[0m\u001b[0;34m\u001b[0m\u001b[0m\n\u001b[1;32m     26\u001b[0m     \u001b[0mpattern\u001b[0m \u001b[0;34m=\u001b[0m \u001b[0mmy_listn\u001b[0m\u001b[0;34m\u001b[0m\u001b[0;34m\u001b[0m\u001b[0m\n\u001b[0;32m---> 27\u001b[0;31m     \u001b[0mmp\u001b[0m \u001b[0;34m=\u001b[0m \u001b[0mmatrixProfile\u001b[0m\u001b[0;34m.\u001b[0m\u001b[0mstomp\u001b[0m\u001b[0;34m(\u001b[0m\u001b[0mpattern\u001b[0m\u001b[0;34m,\u001b[0m\u001b[0mm\u001b[0m\u001b[0;34m)\u001b[0m\u001b[0;34m\u001b[0m\u001b[0;34m\u001b[0m\u001b[0m\n\u001b[0m\u001b[1;32m     28\u001b[0m     \u001b[0mprint\u001b[0m\u001b[0;34m(\u001b[0m\u001b[0;34m\"Done\"\u001b[0m\u001b[0;34m)\u001b[0m\u001b[0;34m\u001b[0m\u001b[0;34m\u001b[0m\u001b[0m\n\u001b[1;32m     29\u001b[0m     \u001b[0;32mreturn\u001b[0m \u001b[0mmp\u001b[0m\u001b[0;34m\u001b[0m\u001b[0;34m\u001b[0m\u001b[0m\n",
      "\u001b[0;32m~/anaconda3/lib/python3.7/site-packages/matrixprofile/matrixProfile.py\u001b[0m in \u001b[0;36mstomp\u001b[0;34m(tsA, m, tsB)\u001b[0m\n\u001b[1;32m    345\u001b[0m     \u001b[0mtsB\u001b[0m\u001b[0;34m:\u001b[0m \u001b[0mTime\u001b[0m \u001b[0mseries\u001b[0m \u001b[0mto\u001b[0m \u001b[0mcompare\u001b[0m \u001b[0mthe\u001b[0m \u001b[0mquery\u001b[0m \u001b[0magainst\u001b[0m\u001b[0;34m.\u001b[0m \u001b[0mNote\u001b[0m \u001b[0mthat\u001b[0m\u001b[0;34m,\u001b[0m \u001b[0;32mif\u001b[0m \u001b[0mno\u001b[0m \u001b[0mvalue\u001b[0m \u001b[0;32mis\u001b[0m \u001b[0mprovided\u001b[0m\u001b[0;34m,\u001b[0m \u001b[0mtsB\u001b[0m \u001b[0;34m=\u001b[0m \u001b[0mtsA\u001b[0m \u001b[0mby\u001b[0m \u001b[0mdefault\u001b[0m\u001b[0;34m.\u001b[0m\u001b[0;34m\u001b[0m\u001b[0;34m\u001b[0m\u001b[0m\n\u001b[1;32m    346\u001b[0m     \"\"\"\n\u001b[0;32m--> 347\u001b[0;31m     \u001b[0;32mreturn\u001b[0m \u001b[0m_matrixProfile_stomp\u001b[0m\u001b[0;34m(\u001b[0m\u001b[0mtsA\u001b[0m\u001b[0;34m,\u001b[0m\u001b[0mm\u001b[0m\u001b[0;34m,\u001b[0m\u001b[0morder\u001b[0m\u001b[0;34m.\u001b[0m\u001b[0mlinearOrder\u001b[0m\u001b[0;34m,\u001b[0m\u001b[0mdistanceProfile\u001b[0m\u001b[0;34m.\u001b[0m\u001b[0mSTOMPDistanceProfile\u001b[0m\u001b[0;34m,\u001b[0m\u001b[0mtsB\u001b[0m\u001b[0;34m)\u001b[0m\u001b[0;34m\u001b[0m\u001b[0;34m\u001b[0m\u001b[0m\n\u001b[0m\u001b[1;32m    348\u001b[0m \u001b[0;34m\u001b[0m\u001b[0m\n\u001b[1;32m    349\u001b[0m \u001b[0;34m\u001b[0m\u001b[0m\n",
      "\u001b[0;32m~/anaconda3/lib/python3.7/site-packages/matrixprofile/matrixProfile.py\u001b[0m in \u001b[0;36m_matrixProfile_stomp\u001b[0;34m(tsA, m, orderClass, distanceProfileFunction, tsB)\u001b[0m\n\u001b[1;32m    219\u001b[0m \u001b[0;32mdef\u001b[0m \u001b[0m_matrixProfile_stomp\u001b[0m\u001b[0;34m(\u001b[0m\u001b[0mtsA\u001b[0m\u001b[0;34m,\u001b[0m\u001b[0mm\u001b[0m\u001b[0;34m,\u001b[0m\u001b[0morderClass\u001b[0m\u001b[0;34m,\u001b[0m\u001b[0mdistanceProfileFunction\u001b[0m\u001b[0;34m,\u001b[0m\u001b[0mtsB\u001b[0m\u001b[0;34m=\u001b[0m\u001b[0;32mNone\u001b[0m\u001b[0;34m)\u001b[0m\u001b[0;34m:\u001b[0m\u001b[0;34m\u001b[0m\u001b[0;34m\u001b[0m\u001b[0m\n\u001b[1;32m    220\u001b[0m     \u001b[0morder\u001b[0m \u001b[0;34m=\u001b[0m \u001b[0morderClass\u001b[0m\u001b[0;34m(\u001b[0m\u001b[0mlen\u001b[0m\u001b[0;34m(\u001b[0m\u001b[0mtsA\u001b[0m\u001b[0;34m)\u001b[0m\u001b[0;34m-\u001b[0m\u001b[0mm\u001b[0m\u001b[0;34m+\u001b[0m\u001b[0;36m1\u001b[0m\u001b[0;34m)\u001b[0m\u001b[0;34m\u001b[0m\u001b[0;34m\u001b[0m\u001b[0m\n\u001b[0;32m--> 221\u001b[0;31m     \u001b[0mmp\u001b[0m\u001b[0;34m,\u001b[0m \u001b[0mmpIndex\u001b[0m \u001b[0;34m=\u001b[0m \u001b[0m_self_join_or_not_preprocess\u001b[0m\u001b[0;34m(\u001b[0m\u001b[0mtsA\u001b[0m\u001b[0;34m,\u001b[0m \u001b[0mtsB\u001b[0m\u001b[0;34m,\u001b[0m \u001b[0mm\u001b[0m\u001b[0;34m)\u001b[0m\u001b[0;34m\u001b[0m\u001b[0;34m\u001b[0m\u001b[0m\n\u001b[0m\u001b[1;32m    222\u001b[0m \u001b[0;34m\u001b[0m\u001b[0m\n\u001b[1;32m    223\u001b[0m     \u001b[0;32mif\u001b[0m \u001b[0;32mnot\u001b[0m \u001b[0mis_array_like\u001b[0m\u001b[0;34m(\u001b[0m\u001b[0mtsB\u001b[0m\u001b[0;34m)\u001b[0m\u001b[0;34m:\u001b[0m\u001b[0;34m\u001b[0m\u001b[0;34m\u001b[0m\u001b[0m\n",
      "\u001b[0;32m~/anaconda3/lib/python3.7/site-packages/matrixprofile/matrixProfile.py\u001b[0m in \u001b[0;36m_self_join_or_not_preprocess\u001b[0;34m(tsA, tsB, m)\u001b[0m\n\u001b[1;32m     86\u001b[0m     \u001b[0mshape\u001b[0m \u001b[0;34m=\u001b[0m \u001b[0mn\u001b[0m \u001b[0;34m-\u001b[0m \u001b[0mm\u001b[0m \u001b[0;34m+\u001b[0m \u001b[0;36m1\u001b[0m\u001b[0;34m\u001b[0m\u001b[0;34m\u001b[0m\u001b[0m\n\u001b[1;32m     87\u001b[0m \u001b[0;34m\u001b[0m\u001b[0m\n\u001b[0;32m---> 88\u001b[0;31m     \u001b[0;32mreturn\u001b[0m \u001b[0;34m(\u001b[0m\u001b[0mnp\u001b[0m\u001b[0;34m.\u001b[0m\u001b[0mfull\u001b[0m\u001b[0;34m(\u001b[0m\u001b[0mshape\u001b[0m\u001b[0;34m,\u001b[0m \u001b[0mnp\u001b[0m\u001b[0;34m.\u001b[0m\u001b[0minf\u001b[0m\u001b[0;34m)\u001b[0m\u001b[0;34m,\u001b[0m \u001b[0mnp\u001b[0m\u001b[0;34m.\u001b[0m\u001b[0mfull\u001b[0m\u001b[0;34m(\u001b[0m\u001b[0mshape\u001b[0m\u001b[0;34m,\u001b[0m \u001b[0mnp\u001b[0m\u001b[0;34m.\u001b[0m\u001b[0minf\u001b[0m\u001b[0;34m)\u001b[0m\u001b[0;34m)\u001b[0m\u001b[0;34m\u001b[0m\u001b[0;34m\u001b[0m\u001b[0m\n\u001b[0m\u001b[1;32m     89\u001b[0m \u001b[0;34m\u001b[0m\u001b[0m\n\u001b[1;32m     90\u001b[0m \u001b[0;32mdef\u001b[0m \u001b[0m_matrixProfile\u001b[0m\u001b[0;34m(\u001b[0m\u001b[0mtsA\u001b[0m\u001b[0;34m,\u001b[0m\u001b[0mm\u001b[0m\u001b[0;34m,\u001b[0m\u001b[0morderClass\u001b[0m\u001b[0;34m,\u001b[0m\u001b[0mdistanceProfileFunction\u001b[0m\u001b[0;34m,\u001b[0m\u001b[0mtsB\u001b[0m\u001b[0;34m=\u001b[0m\u001b[0;32mNone\u001b[0m\u001b[0;34m)\u001b[0m\u001b[0;34m:\u001b[0m\u001b[0;34m\u001b[0m\u001b[0;34m\u001b[0m\u001b[0m\n",
      "\u001b[0;32m~/anaconda3/lib/python3.7/site-packages/numpy/core/numeric.py\u001b[0m in \u001b[0;36mfull\u001b[0;34m(shape, fill_value, dtype, order)\u001b[0m\n\u001b[1;32m    330\u001b[0m     \u001b[0;32mif\u001b[0m \u001b[0mdtype\u001b[0m \u001b[0;32mis\u001b[0m \u001b[0;32mNone\u001b[0m\u001b[0;34m:\u001b[0m\u001b[0;34m\u001b[0m\u001b[0;34m\u001b[0m\u001b[0m\n\u001b[1;32m    331\u001b[0m         \u001b[0mdtype\u001b[0m \u001b[0;34m=\u001b[0m \u001b[0marray\u001b[0m\u001b[0;34m(\u001b[0m\u001b[0mfill_value\u001b[0m\u001b[0;34m)\u001b[0m\u001b[0;34m.\u001b[0m\u001b[0mdtype\u001b[0m\u001b[0;34m\u001b[0m\u001b[0;34m\u001b[0m\u001b[0m\n\u001b[0;32m--> 332\u001b[0;31m     \u001b[0ma\u001b[0m \u001b[0;34m=\u001b[0m \u001b[0mempty\u001b[0m\u001b[0;34m(\u001b[0m\u001b[0mshape\u001b[0m\u001b[0;34m,\u001b[0m \u001b[0mdtype\u001b[0m\u001b[0;34m,\u001b[0m \u001b[0morder\u001b[0m\u001b[0;34m)\u001b[0m\u001b[0;34m\u001b[0m\u001b[0;34m\u001b[0m\u001b[0m\n\u001b[0m\u001b[1;32m    333\u001b[0m     \u001b[0mmultiarray\u001b[0m\u001b[0;34m.\u001b[0m\u001b[0mcopyto\u001b[0m\u001b[0;34m(\u001b[0m\u001b[0ma\u001b[0m\u001b[0;34m,\u001b[0m \u001b[0mfill_value\u001b[0m\u001b[0;34m,\u001b[0m \u001b[0mcasting\u001b[0m\u001b[0;34m=\u001b[0m\u001b[0;34m'unsafe'\u001b[0m\u001b[0;34m)\u001b[0m\u001b[0;34m\u001b[0m\u001b[0;34m\u001b[0m\u001b[0m\n\u001b[1;32m    334\u001b[0m     \u001b[0;32mreturn\u001b[0m \u001b[0ma\u001b[0m\u001b[0;34m\u001b[0m\u001b[0;34m\u001b[0m\u001b[0m\n",
      "\u001b[0;31mValueError\u001b[0m: negative dimensions are not allowed"
     ]
    }
   ],
   "source": [
    "mp1 = create_matrixprofile(df_lite,1)"
   ]
  },
  {
   "cell_type": "code",
   "execution_count": null,
   "metadata": {},
   "outputs": [],
   "source": [
    "mp_adj = np.append(mp1[0],np.zeros(m-1)+np.nan)\n",
    "\n",
    "fig, (ax1, ax2) = plt.subplots(2,1,sharex=True,figsize=(20,10))\n",
    "ax1.plot(np.arange(len(pattern)),pattern, label=\"Synthetic Data\")\n",
    "ax1.set_ylabel('Entire Sequence', size=22)\n",
    "\n",
    "ax2.plot(np.arange(len(mp_adj)),mp_adj, label=\"Matrix Profile\", color='red')\n",
    "ax2.set_ylabel('Matrix Profile', size=22)\n",
    "ax2.set_xlabel('Sample', size=22)"
   ]
  },
  {
   "cell_type": "code",
   "execution_count": 40,
   "metadata": {},
   "outputs": [
    {
     "data": {
      "text/plain": [
       "4.0    898876\n",
       "3.0    675341\n",
       "1.0    437214\n",
       "2.0    397867\n",
       "5.0    114442\n",
       "Name: links_workflow, dtype: int64"
      ]
     },
     "execution_count": 40,
     "metadata": {},
     "output_type": "execute_result"
    }
   ],
   "source": [
    "df_lite.links_workflow.value_counts()"
   ]
  },
  {
   "cell_type": "code",
   "execution_count": null,
   "metadata": {},
   "outputs": [],
   "source": []
  }
 ],
 "metadata": {
  "kernelspec": {
   "display_name": "Python 3",
   "language": "python",
   "name": "python3"
  },
  "language_info": {
   "codemirror_mode": {
    "name": "ipython",
    "version": 3
   },
   "file_extension": ".py",
   "mimetype": "text/x-python",
   "name": "python",
   "nbconvert_exporter": "python",
   "pygments_lexer": "ipython3",
   "version": "3.7.6"
  }
 },
 "nbformat": 4,
 "nbformat_minor": 4
}
