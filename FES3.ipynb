{
 "cells": [
  {
   "cell_type": "code",
   "execution_count": 2,
   "metadata": {},
   "outputs": [],
   "source": [
    "import pandas as pd\n",
    "import numpy as np\n",
    "from matrixprofile import *"
   ]
  },
  {
   "cell_type": "code",
   "execution_count": 3,
   "metadata": {},
   "outputs": [],
   "source": [
    "df = pd.DataFrame(pd.read_csv(\"./combined_activities_51319.csv\"))"
   ]
  },
  {
   "cell_type": "code",
   "execution_count": 4,
   "metadata": {},
   "outputs": [
    {
     "name": "stdout",
     "output_type": "stream",
     "text": [
      "<class 'pandas.core.frame.DataFrame'>\n",
      "RangeIndex: 2698812 entries, 0 to 2698811\n",
      "Data columns (total 27 columns):\n",
      "Unnamed: 0                       int64\n",
      "userID                           int64\n",
      "time                             object\n",
      "subjectID                        object\n",
      "id.x                             float64\n",
      "type                             object\n",
      "relatedID                        object\n",
      "data                             object\n",
      "new.category                     object\n",
      "GoldLabel                        float64\n",
      "id.y                             float64\n",
      "links_project                    float64\n",
      "links_workflow                   float64\n",
      "metadata_workflow_version        float64\n",
      "annotations_value_choiceINT      float64\n",
      "gravityspy_id                    object\n",
      "annotations_value_choice         object\n",
      "metadata_finished_at             object\n",
      "metadata_started_at              object\n",
      "uniqueID                         object\n",
      "gold_score                       float64\n",
      "annotations_value_choice_gold    object\n",
      "session                          int64\n",
      "event_order                      int64\n",
      "before_learning                  object\n",
      "aftergold                        object\n",
      "new.category2                    object\n",
      "dtypes: float64(8), int64(4), object(15)\n",
      "memory usage: 555.9+ MB\n"
     ]
    }
   ],
   "source": [
    "df.info()"
   ]
  },
  {
   "cell_type": "markdown",
   "metadata": {},
   "source": [
    "Find the negative feedback indexes"
   ]
  },
  {
   "cell_type": "code",
   "execution_count": 5,
   "metadata": {},
   "outputs": [],
   "source": [
    "neg_index = df[df.gold_score == 0].index.values.tolist()"
   ]
  },
  {
   "cell_type": "code",
   "execution_count": 6,
   "metadata": {},
   "outputs": [],
   "source": [
    "#classify = {\"classify\":1, \"communal\":2, \"exploring\":3, \"learning\":4, \"personal\":5, \"socialize\":6, \"view discussions\":7}"
   ]
  },
  {
   "cell_type": "code",
   "execution_count": 7,
   "metadata": {},
   "outputs": [],
   "source": [
    "#df[\"new.category2\"] = [classify[item] if item in df[\"new.category2\"].values else None for item in df[\"new.category2\"].values]"
   ]
  },
  {
   "cell_type": "code",
   "execution_count": 8,
   "metadata": {},
   "outputs": [],
   "source": [
    "# only need userID, links_workflow, gold_score time, new.category2 , session\n",
    "df_lite = df.iloc[:,[1,2,12,20,22,26]]"
   ]
  },
  {
   "cell_type": "code",
   "execution_count": 9,
   "metadata": {},
   "outputs": [
    {
     "name": "stderr",
     "output_type": "stream",
     "text": [
      "C:\\Users\\mistr\\Anaconda3\\lib\\site-packages\\pandas\\core\\frame.py:4238: SettingWithCopyWarning: \n",
      "A value is trying to be set on a copy of a slice from a DataFrame\n",
      "\n",
      "See the caveats in the documentation: http://pandas.pydata.org/pandas-docs/stable/user_guide/indexing.html#returning-a-view-versus-a-copy\n",
      "  return super().rename(**kwargs)\n"
     ]
    }
   ],
   "source": [
    "df_lite.rename(columns = {'new.category2':'category2'}, inplace = True)"
   ]
  },
  {
   "cell_type": "code",
   "execution_count": 10,
   "metadata": {},
   "outputs": [
    {
     "name": "stderr",
     "output_type": "stream",
     "text": [
      "C:\\Users\\mistr\\Anaconda3\\lib\\site-packages\\ipykernel_launcher.py:1: SettingWithCopyWarning: \n",
      "A value is trying to be set on a copy of a slice from a DataFrame\n",
      "\n",
      "See the caveats in the documentation: http://pandas.pydata.org/pandas-docs/stable/user_guide/indexing.html#returning-a-view-versus-a-copy\n",
      "  \"\"\"Entry point for launching an IPython kernel.\n",
      "C:\\Users\\mistr\\Anaconda3\\lib\\site-packages\\pandas\\core\\generic.py:9114: SettingWithCopyWarning: \n",
      "A value is trying to be set on a copy of a slice from a DataFrame\n",
      "\n",
      "See the caveats in the documentation: http://pandas.pydata.org/pandas-docs/stable/user_guide/indexing.html#returning-a-view-versus-a-copy\n",
      "  self._update_inplace(new_data)\n",
      "C:\\Users\\mistr\\Anaconda3\\lib\\site-packages\\IPython\\core\\interactiveshell.py:3319: SettingWithCopyWarning: \n",
      "A value is trying to be set on a copy of a slice from a DataFrame\n",
      "\n",
      "See the caveats in the documentation: http://pandas.pydata.org/pandas-docs/stable/user_guide/indexing.html#returning-a-view-versus-a-copy\n",
      "  exec(code_obj, self.user_global_ns, self.user_ns)\n",
      "C:\\Users\\mistr\\Anaconda3\\lib\\site-packages\\ipykernel_launcher.py:2: SettingWithCopyWarning: \n",
      "A value is trying to be set on a copy of a slice from a DataFrame\n",
      "\n",
      "See the caveats in the documentation: http://pandas.pydata.org/pandas-docs/stable/user_guide/indexing.html#returning-a-view-versus-a-copy\n",
      "  \n",
      "C:\\Users\\mistr\\Anaconda3\\lib\\site-packages\\ipykernel_launcher.py:3: SettingWithCopyWarning: \n",
      "A value is trying to be set on a copy of a slice from a DataFrame\n",
      "\n",
      "See the caveats in the documentation: http://pandas.pydata.org/pandas-docs/stable/user_guide/indexing.html#returning-a-view-versus-a-copy\n",
      "  This is separate from the ipykernel package so we can avoid doing imports until\n",
      "C:\\Users\\mistr\\Anaconda3\\lib\\site-packages\\ipykernel_launcher.py:4: SettingWithCopyWarning: \n",
      "A value is trying to be set on a copy of a slice from a DataFrame\n",
      "\n",
      "See the caveats in the documentation: http://pandas.pydata.org/pandas-docs/stable/user_guide/indexing.html#returning-a-view-versus-a-copy\n",
      "  after removing the cwd from sys.path.\n",
      "C:\\Users\\mistr\\Anaconda3\\lib\\site-packages\\ipykernel_launcher.py:5: SettingWithCopyWarning: \n",
      "A value is trying to be set on a copy of a slice from a DataFrame\n",
      "\n",
      "See the caveats in the documentation: http://pandas.pydata.org/pandas-docs/stable/user_guide/indexing.html#returning-a-view-versus-a-copy\n",
      "  \"\"\"\n"
     ]
    }
   ],
   "source": [
    "df_lite.links_workflow[df_lite.links_workflow == 1610] = 1\n",
    "df_lite.links_workflow[df_lite.links_workflow == 1934] = 2\n",
    "df_lite.links_workflow[df_lite.links_workflow == 1935] = 3\n",
    "df_lite.links_workflow[df_lite.links_workflow == 2360] = 4\n",
    "df_lite.links_workflow[df_lite.links_workflow == 2117] = 5"
   ]
  },
  {
   "cell_type": "code",
   "execution_count": 11,
   "metadata": {},
   "outputs": [
    {
     "name": "stderr",
     "output_type": "stream",
     "text": [
      "C:\\Users\\mistr\\Anaconda3\\lib\\site-packages\\ipykernel_launcher.py:1: SettingWithCopyWarning: \n",
      "A value is trying to be set on a copy of a slice from a DataFrame\n",
      "\n",
      "See the caveats in the documentation: http://pandas.pydata.org/pandas-docs/stable/user_guide/indexing.html#returning-a-view-versus-a-copy\n",
      "  \"\"\"Entry point for launching an IPython kernel.\n",
      "C:\\Users\\mistr\\Anaconda3\\lib\\site-packages\\ipykernel_launcher.py:2: SettingWithCopyWarning: \n",
      "A value is trying to be set on a copy of a slice from a DataFrame\n",
      "\n",
      "See the caveats in the documentation: http://pandas.pydata.org/pandas-docs/stable/user_guide/indexing.html#returning-a-view-versus-a-copy\n",
      "  \n",
      "C:\\Users\\mistr\\Anaconda3\\lib\\site-packages\\ipykernel_launcher.py:3: SettingWithCopyWarning: \n",
      "A value is trying to be set on a copy of a slice from a DataFrame\n",
      "\n",
      "See the caveats in the documentation: http://pandas.pydata.org/pandas-docs/stable/user_guide/indexing.html#returning-a-view-versus-a-copy\n",
      "  This is separate from the ipykernel package so we can avoid doing imports until\n",
      "C:\\Users\\mistr\\Anaconda3\\lib\\site-packages\\ipykernel_launcher.py:4: SettingWithCopyWarning: \n",
      "A value is trying to be set on a copy of a slice from a DataFrame\n",
      "\n",
      "See the caveats in the documentation: http://pandas.pydata.org/pandas-docs/stable/user_guide/indexing.html#returning-a-view-versus-a-copy\n",
      "  after removing the cwd from sys.path.\n",
      "C:\\Users\\mistr\\Anaconda3\\lib\\site-packages\\ipykernel_launcher.py:5: SettingWithCopyWarning: \n",
      "A value is trying to be set on a copy of a slice from a DataFrame\n",
      "\n",
      "See the caveats in the documentation: http://pandas.pydata.org/pandas-docs/stable/user_guide/indexing.html#returning-a-view-versus-a-copy\n",
      "  \"\"\"\n",
      "C:\\Users\\mistr\\Anaconda3\\lib\\site-packages\\ipykernel_launcher.py:6: SettingWithCopyWarning: \n",
      "A value is trying to be set on a copy of a slice from a DataFrame\n",
      "\n",
      "See the caveats in the documentation: http://pandas.pydata.org/pandas-docs/stable/user_guide/indexing.html#returning-a-view-versus-a-copy\n",
      "  \n",
      "C:\\Users\\mistr\\Anaconda3\\lib\\site-packages\\ipykernel_launcher.py:7: SettingWithCopyWarning: \n",
      "A value is trying to be set on a copy of a slice from a DataFrame\n",
      "\n",
      "See the caveats in the documentation: http://pandas.pydata.org/pandas-docs/stable/user_guide/indexing.html#returning-a-view-versus-a-copy\n",
      "  import sys\n"
     ]
    }
   ],
   "source": [
    "'''\n",
    "df_lite.category2[df_lite.category2 == 'classify'] = 10\n",
    "df_lite.category2[df_lite.category2 == 'communal'] = 20\n",
    "df_lite.category2[df_lite.category2 == 'exploring'] = 30\n",
    "df_lite.category2[df_lite.category2 == 'learning'] = 40\n",
    "df_lite.category2[df_lite.category2 == 'personal'] = 50\n",
    "df_lite.category2[df_lite.category2 == 'socialize'] = 60\n",
    "df_lite.category2[df_lite.category2 == 'view discussions'] = 70\n",
    "'''"
   ]
  },
  {
   "cell_type": "code",
   "execution_count": 12,
   "metadata": {},
   "outputs": [
    {
     "data": {
      "text/plain": [
       "1.0    559865\n",
       "0.0     32054\n",
       "Name: gold_score, dtype: int64"
      ]
     },
     "execution_count": 12,
     "metadata": {},
     "output_type": "execute_result"
    }
   ],
   "source": [
    "df_lite.gold_score.value_counts()"
   ]
  },
  {
   "cell_type": "code",
   "execution_count": 13,
   "metadata": {},
   "outputs": [
    {
     "name": "stderr",
     "output_type": "stream",
     "text": [
      "C:\\Users\\mistr\\Anaconda3\\lib\\site-packages\\pandas\\core\\generic.py:5208: SettingWithCopyWarning: \n",
      "A value is trying to be set on a copy of a slice from a DataFrame.\n",
      "Try using .loc[row_indexer,col_indexer] = value instead\n",
      "\n",
      "See the caveats in the documentation: http://pandas.pydata.org/pandas-docs/stable/user_guide/indexing.html#returning-a-view-versus-a-copy\n",
      "  self[name] = value\n"
     ]
    }
   ],
   "source": [
    "df_lite.gold_score = df_lite.gold_score.fillna(0)"
   ]
  },
  {
   "cell_type": "code",
   "execution_count": 14,
   "metadata": {},
   "outputs": [
    {
     "data": {
      "text/plain": [
       "10    2523660\n",
       "70      65237\n",
       "30      45947\n",
       "40      34486\n",
       "60      17205\n",
       "20       8131\n",
       "50       4146\n",
       "Name: category2, dtype: int64"
      ]
     },
     "execution_count": 14,
     "metadata": {},
     "output_type": "execute_result"
    }
   ],
   "source": [
    "df_lite.category2.value_counts()"
   ]
  },
  {
   "cell_type": "code",
   "execution_count": 15,
   "metadata": {},
   "outputs": [
    {
     "data": {
      "text/plain": [
       "10733"
      ]
     },
     "execution_count": 15,
     "metadata": {},
     "output_type": "execute_result"
    }
   ],
   "source": [
    "#max(set(list(df_lite.userID)), key = list(df_lite.userID).count)\n",
    "len(list(df_lite.userID.unique()))"
   ]
  },
  {
   "cell_type": "markdown",
   "metadata": {},
   "source": [
    "Create a df for workflow 5"
   ]
  },
  {
   "cell_type": "code",
   "execution_count": 16,
   "metadata": {},
   "outputs": [],
   "source": [
    "df5 = df_lite[(df_lite.links_workflow == 5)]"
   ]
  },
  {
   "cell_type": "code",
   "execution_count": 17,
   "metadata": {},
   "outputs": [
    {
     "data": {
      "text/html": [
       "<div>\n",
       "<style scoped>\n",
       "    .dataframe tbody tr th:only-of-type {\n",
       "        vertical-align: middle;\n",
       "    }\n",
       "\n",
       "    .dataframe tbody tr th {\n",
       "        vertical-align: top;\n",
       "    }\n",
       "\n",
       "    .dataframe thead th {\n",
       "        text-align: right;\n",
       "    }\n",
       "</style>\n",
       "<table border=\"1\" class=\"dataframe\">\n",
       "  <thead>\n",
       "    <tr style=\"text-align: right;\">\n",
       "      <th></th>\n",
       "      <th>index</th>\n",
       "      <th>userID</th>\n",
       "      <th>time</th>\n",
       "      <th>links_workflow</th>\n",
       "      <th>gold_score</th>\n",
       "      <th>session</th>\n",
       "      <th>category2</th>\n",
       "    </tr>\n",
       "  </thead>\n",
       "  <tbody>\n",
       "    <tr>\n",
       "      <th>0</th>\n",
       "      <td>22004</td>\n",
       "      <td>1057540</td>\n",
       "      <td>2017-02-24 11:16:48</td>\n",
       "      <td>5.0</td>\n",
       "      <td>0.0</td>\n",
       "      <td>11</td>\n",
       "      <td>10</td>\n",
       "    </tr>\n",
       "    <tr>\n",
       "      <th>1</th>\n",
       "      <td>22005</td>\n",
       "      <td>1057540</td>\n",
       "      <td>2017-02-24 11:17:32</td>\n",
       "      <td>5.0</td>\n",
       "      <td>0.0</td>\n",
       "      <td>11</td>\n",
       "      <td>10</td>\n",
       "    </tr>\n",
       "    <tr>\n",
       "      <th>2</th>\n",
       "      <td>22007</td>\n",
       "      <td>1057540</td>\n",
       "      <td>2017-02-24 11:19:13</td>\n",
       "      <td>5.0</td>\n",
       "      <td>0.0</td>\n",
       "      <td>11</td>\n",
       "      <td>10</td>\n",
       "    </tr>\n",
       "    <tr>\n",
       "      <th>3</th>\n",
       "      <td>22008</td>\n",
       "      <td>1057540</td>\n",
       "      <td>2017-02-24 11:22:18</td>\n",
       "      <td>5.0</td>\n",
       "      <td>0.0</td>\n",
       "      <td>11</td>\n",
       "      <td>10</td>\n",
       "    </tr>\n",
       "    <tr>\n",
       "      <th>4</th>\n",
       "      <td>22009</td>\n",
       "      <td>1057540</td>\n",
       "      <td>2017-02-24 11:22:52</td>\n",
       "      <td>5.0</td>\n",
       "      <td>0.0</td>\n",
       "      <td>11</td>\n",
       "      <td>10</td>\n",
       "    </tr>\n",
       "    <tr>\n",
       "      <th>...</th>\n",
       "      <td>...</td>\n",
       "      <td>...</td>\n",
       "      <td>...</td>\n",
       "      <td>...</td>\n",
       "      <td>...</td>\n",
       "      <td>...</td>\n",
       "      <td>...</td>\n",
       "    </tr>\n",
       "    <tr>\n",
       "      <th>114437</th>\n",
       "      <td>2693474</td>\n",
       "      <td>986</td>\n",
       "      <td>2017-09-20 12:58:23</td>\n",
       "      <td>5.0</td>\n",
       "      <td>0.0</td>\n",
       "      <td>84</td>\n",
       "      <td>10</td>\n",
       "    </tr>\n",
       "    <tr>\n",
       "      <th>114438</th>\n",
       "      <td>2693475</td>\n",
       "      <td>986</td>\n",
       "      <td>2017-09-20 12:58:41</td>\n",
       "      <td>5.0</td>\n",
       "      <td>0.0</td>\n",
       "      <td>84</td>\n",
       "      <td>10</td>\n",
       "    </tr>\n",
       "    <tr>\n",
       "      <th>114439</th>\n",
       "      <td>2693476</td>\n",
       "      <td>986</td>\n",
       "      <td>2017-09-20 12:58:53</td>\n",
       "      <td>5.0</td>\n",
       "      <td>0.0</td>\n",
       "      <td>84</td>\n",
       "      <td>10</td>\n",
       "    </tr>\n",
       "    <tr>\n",
       "      <th>114440</th>\n",
       "      <td>2693477</td>\n",
       "      <td>986</td>\n",
       "      <td>2017-09-20 12:59:03</td>\n",
       "      <td>5.0</td>\n",
       "      <td>0.0</td>\n",
       "      <td>84</td>\n",
       "      <td>10</td>\n",
       "    </tr>\n",
       "    <tr>\n",
       "      <th>114441</th>\n",
       "      <td>2693478</td>\n",
       "      <td>986</td>\n",
       "      <td>2017-09-20 12:59:37</td>\n",
       "      <td>5.0</td>\n",
       "      <td>0.0</td>\n",
       "      <td>84</td>\n",
       "      <td>10</td>\n",
       "    </tr>\n",
       "  </tbody>\n",
       "</table>\n",
       "<p>114442 rows × 7 columns</p>\n",
       "</div>"
      ],
      "text/plain": [
       "          index   userID                 time  links_workflow  gold_score  \\\n",
       "0         22004  1057540  2017-02-24 11:16:48             5.0         0.0   \n",
       "1         22005  1057540  2017-02-24 11:17:32             5.0         0.0   \n",
       "2         22007  1057540  2017-02-24 11:19:13             5.0         0.0   \n",
       "3         22008  1057540  2017-02-24 11:22:18             5.0         0.0   \n",
       "4         22009  1057540  2017-02-24 11:22:52             5.0         0.0   \n",
       "...         ...      ...                  ...             ...         ...   \n",
       "114437  2693474      986  2017-09-20 12:58:23             5.0         0.0   \n",
       "114438  2693475      986  2017-09-20 12:58:41             5.0         0.0   \n",
       "114439  2693476      986  2017-09-20 12:58:53             5.0         0.0   \n",
       "114440  2693477      986  2017-09-20 12:59:03             5.0         0.0   \n",
       "114441  2693478      986  2017-09-20 12:59:37             5.0         0.0   \n",
       "\n",
       "        session category2  \n",
       "0            11        10  \n",
       "1            11        10  \n",
       "2            11        10  \n",
       "3            11        10  \n",
       "4            11        10  \n",
       "...         ...       ...  \n",
       "114437       84        10  \n",
       "114438       84        10  \n",
       "114439       84        10  \n",
       "114440       84        10  \n",
       "114441       84        10  \n",
       "\n",
       "[114442 rows x 7 columns]"
      ]
     },
     "execution_count": 17,
     "metadata": {},
     "output_type": "execute_result"
    }
   ],
   "source": [
    "df5.reset_index()"
   ]
  },
  {
   "cell_type": "code",
   "execution_count": null,
   "metadata": {},
   "outputs": [],
   "source": []
  },
  {
   "cell_type": "code",
   "execution_count": 18,
   "metadata": {},
   "outputs": [
    {
     "data": {
      "text/plain": [
       "array([1057540, 1191124, 1191730, 1202620, 1244306, 1374419, 1430195,\n",
       "       1430492, 1443190, 1455469, 1455696, 1483245, 1502635, 1505977,\n",
       "       1507994, 1507997, 1508485, 1513387, 1517545, 1517687, 1520048,\n",
       "       1524438, 1525581, 1529419, 1530603, 1530621, 1530882, 1533058,\n",
       "       1534622, 1534755, 1536599, 1542559, 1543664, 1548316, 1551029,\n",
       "       1559443, 1559755, 1559856, 1563309, 1563323, 1565910, 1575381,\n",
       "       1575450, 1598413, 1599151, 1614870, 1630952, 1632885, 1646393,\n",
       "       1664875, 1677904, 1680775, 1689505,    1856,    2236,  315840,\n",
       "        316120,  325635,    3307,    3427,    3462,  424439,    4261,\n",
       "        450605,  501682,    5209,  767062,   95974,     986], dtype=int64)"
      ]
     },
     "execution_count": 18,
     "metadata": {},
     "output_type": "execute_result"
    }
   ],
   "source": [
    "df5.userID.unique()"
   ]
  },
  {
   "cell_type": "code",
   "execution_count": 19,
   "metadata": {},
   "outputs": [
    {
     "data": {
      "text/plain": [
       "10    114439\n",
       "30         3\n",
       "Name: category2, dtype: int64"
      ]
     },
     "execution_count": 19,
     "metadata": {},
     "output_type": "execute_result"
    }
   ],
   "source": [
    "df5['category2'].value_counts()"
   ]
  },
  {
   "cell_type": "code",
   "execution_count": 20,
   "metadata": {},
   "outputs": [],
   "source": [
    "#df3['new.category2'][df3['new.category2'] == 'classify'] = 1\n",
    "#df3['new.category2'][df3['new.category2'] == 'communal'] = 2\n",
    "#df3['new.category2'][df3['new.category2'] == 'exploring'] = 3\n",
    "#df3['new.category2'][df3['new.category2'] == 'learning'] = 4\n",
    "#df3['new.category2'][df3['new.category2'] == 'personal'] = 5\n",
    "#df3['new.category2'][df3['new.category2'] == 'socialize'] = 6\n",
    "#df3['new.category2'][df3['new.category2'] == 'view discussions'] = 7\n",
    "#df3['new.category2'] = df3['new.category2'].map({\"classify\":1, \"communal\":2, \"exploring\":3, \"learning\":4, \"personal\":5, \"socialize\":6, \"view discussions\":7})"
   ]
  },
  {
   "cell_type": "code",
   "execution_count": 21,
   "metadata": {},
   "outputs": [
    {
     "name": "stdout",
     "output_type": "stream",
     "text": [
      "<class 'pandas.core.frame.DataFrame'>\n",
      "Int64Index: 114442 entries, 22004 to 2693478\n",
      "Data columns (total 6 columns):\n",
      "userID            114442 non-null int64\n",
      "time              114442 non-null object\n",
      "links_workflow    114442 non-null float64\n",
      "gold_score        114442 non-null float64\n",
      "session           114442 non-null int64\n",
      "category2         114442 non-null object\n",
      "dtypes: float64(2), int64(2), object(2)\n",
      "memory usage: 6.1+ MB\n"
     ]
    }
   ],
   "source": [
    "df5.info()"
   ]
  },
  {
   "cell_type": "code",
   "execution_count": 22,
   "metadata": {},
   "outputs": [
    {
     "name": "stderr",
     "output_type": "stream",
     "text": [
      "C:\\Users\\mistr\\Anaconda3\\lib\\site-packages\\ipykernel_launcher.py:2: SettingWithCopyWarning: \n",
      "A value is trying to be set on a copy of a slice from a DataFrame.\n",
      "Try using .loc[row_indexer,col_indexer] = value instead\n",
      "\n",
      "See the caveats in the documentation: http://pandas.pydata.org/pandas-docs/stable/user_guide/indexing.html#returning-a-view-versus-a-copy\n",
      "  \n"
     ]
    }
   ],
   "source": [
    "#df3.userID = pd.to_numeric(df3.userID,downcast = 'integer')\n",
    "df5['category2'] = pd.to_numeric(df5['category2'],downcast = 'integer')"
   ]
  },
  {
   "cell_type": "code",
   "execution_count": 23,
   "metadata": {},
   "outputs": [
    {
     "data": {
      "text/plain": [
       "array([1057540, 1191124, 1191730, 1202620, 1244306, 1374419, 1430195,\n",
       "       1430492, 1443190, 1455469, 1455696, 1483245, 1502635, 1505977,\n",
       "       1507994, 1507997, 1508485, 1513387, 1517545, 1517687, 1520048,\n",
       "       1524438, 1525581, 1529419, 1530603, 1530621, 1530882, 1533058,\n",
       "       1534622, 1534755, 1536599, 1542559, 1543664, 1548316, 1551029,\n",
       "       1559443, 1559755, 1559856, 1563309, 1563323, 1565910, 1575381,\n",
       "       1575450, 1598413, 1599151, 1614870, 1630952, 1632885, 1646393,\n",
       "       1664875, 1677904, 1680775, 1689505,    1856,    2236,  315840,\n",
       "        316120,  325635,    3307,    3427,    3462,  424439,    4261,\n",
       "        450605,  501682,    5209,  767062,   95974,     986], dtype=int64)"
      ]
     },
     "execution_count": 23,
     "metadata": {},
     "output_type": "execute_result"
    }
   ],
   "source": [
    "df5['userID'].unique()"
   ]
  },
  {
   "cell_type": "code",
   "execution_count": 24,
   "metadata": {},
   "outputs": [
    {
     "data": {
      "text/plain": [
       "10"
      ]
     },
     "execution_count": 24,
     "metadata": {},
     "output_type": "execute_result"
    }
   ],
   "source": [
    "df5['category2'].values[0]"
   ]
  },
  {
   "cell_type": "code",
   "execution_count": 25,
   "metadata": {},
   "outputs": [],
   "source": [
    "#For lossless time series conversion"
   ]
  },
  {
   "cell_type": "code",
   "execution_count": 38,
   "metadata": {},
   "outputs": [],
   "source": [
    "my_list = [0]\n",
    "data1 = df5.category2.values.tolist()\n",
    "for i in range(0,len(data1)):\n",
    "    if data1[i] == 10:\n",
    "        my_list.append(my_list[-1]+3)\n",
    "    elif data1[i] == 20:\n",
    "        my_list.append(my_list[-1]+2)\n",
    "    elif data1[i] == 30:\n",
    "        my_list.append(my_list[-1]+1)\n",
    "    elif data1[i] == 40:\n",
    "        my_list.append(my_list[-1]+0)\n",
    "    elif data1[i] == 50:\n",
    "        my_list.append(my_list[-1]-1)\n",
    "    elif data1[i] == 60:\n",
    "        my_list.append(my_list[-1]-2)\n",
    "    elif data1[i] == 70:\n",
    "        my_list.append(my_list[-1]-3)"
   ]
  },
  {
   "cell_type": "code",
   "execution_count": 27,
   "metadata": {},
   "outputs": [],
   "source": [
    "#my_list = np.array(df5['category2'].values.tolist())"
   ]
  },
  {
   "cell_type": "code",
   "execution_count": 40,
   "metadata": {},
   "outputs": [],
   "source": [
    "my_list1 = matrixProfile.to_np_array(my_list)"
   ]
  },
  {
   "cell_type": "code",
   "execution_count": 64,
   "metadata": {},
   "outputs": [
    {
     "data": {
      "text/plain": [
       "114443"
      ]
     },
     "execution_count": 64,
     "metadata": {},
     "output_type": "execute_result"
    }
   ],
   "source": [
    "len(my_list1)"
   ]
  },
  {
   "cell_type": "code",
   "execution_count": 44,
   "metadata": {},
   "outputs": [],
   "source": [
    "#set(my_list1)"
   ]
  },
  {
   "cell_type": "code",
   "execution_count": 45,
   "metadata": {},
   "outputs": [],
   "source": [
    "m = 10\n",
    "pattern = my_list1"
   ]
  },
  {
   "cell_type": "code",
   "execution_count": 46,
   "metadata": {},
   "outputs": [],
   "source": [
    "mp = matrixProfile.stomp(pattern,m)"
   ]
  },
  {
   "cell_type": "code",
   "execution_count": 47,
   "metadata": {},
   "outputs": [
    {
     "data": {
      "text/plain": [
       "(array([0.00000000e+00, 6.83677960e-04, 9.66866957e-04, 1.22701020e-03,\n",
       "        1.32806897e-03, 1.00000000e+00, 2.00000000e+00, 3.00000000e+00,\n",
       "        4.00000000e+00, 5.00000000e+00, 6.00000000e+00, 7.00000000e+00,\n",
       "        8.00000000e+00, 9.00000000e+00, 1.00000000e+01, 1.10000000e+01,\n",
       "        1.20000000e+01, 1.30000000e+01, 1.40000000e+01, 1.50000000e+01,\n",
       "        1.60000000e+01, 1.70000000e+01, 1.80000000e+01, 1.90000000e+01,\n",
       "        2.00000000e+01, 2.10000000e+01, 2.20000000e+01, 2.30000000e+01,\n",
       "        2.40000000e+01, 2.50000000e+01, 2.60000000e+01, 2.70000000e+01,\n",
       "        2.80000000e+01, 2.90000000e+01, 3.00000000e+01, 3.10000000e+01,\n",
       "        3.20000000e+01, 3.30000000e+01, 3.40000000e+01, 3.50000000e+01,\n",
       "        3.60000000e+01, 3.70000000e+01, 3.80000000e+01, 3.90000000e+01,\n",
       "        4.00000000e+01, 1.09486000e+05, 1.09488000e+05, 1.09489000e+05,\n",
       "        1.09490000e+05, 1.09491000e+05, 1.09492000e+05, 1.09493000e+05,\n",
       "        1.09494000e+05, 1.11568000e+05, 1.11569000e+05, 1.11570000e+05,\n",
       "        1.11571000e+05, 1.11572000e+05, 1.11573000e+05, 1.11574000e+05,\n",
       "        1.11575000e+05, 1.11576000e+05, 1.12083000e+05]),\n",
       " array([184259,      1,      3,      1,      3,  18378,   8900,   5186,\n",
       "          2899,   2035,   1563,   1254,    886,    671,    496,    410,\n",
       "           310,    273,    230,    180,    151,    148,    132,     99,\n",
       "            68,     59,     45,     36,     26,     24,     23,     16,\n",
       "            14,     11,     13,      9,      7,      9,      6,      2,\n",
       "             1,      1,      1,      1,      1,      2,      2,      2,\n",
       "             2,      2,      2,      2,      2,      1,      1,      1,\n",
       "             1,      1,      1,      1,      1,      1,      2],\n",
       "       dtype=int64))"
      ]
     },
     "execution_count": 47,
     "metadata": {},
     "output_type": "execute_result"
    }
   ],
   "source": [
    "np.unique(mp, return_counts = True)"
   ]
  },
  {
   "cell_type": "code",
   "execution_count": 48,
   "metadata": {},
   "outputs": [],
   "source": [
    "%matplotlib inline\n",
    "import matplotlib.pyplot as plt"
   ]
  },
  {
   "cell_type": "code",
   "execution_count": 59,
   "metadata": {},
   "outputs": [
    {
     "data": {
      "text/plain": [
       "Text(0.5, 0, 'Sample')"
      ]
     },
     "execution_count": 59,
     "metadata": {},
     "output_type": "execute_result"
    },
    {
     "data": {
      "image/png": "[encoded data removed]",
      "text/plain": [
       "<Figure size 1440x720 with 2 Axes>"
      ]
     },
     "metadata": {
      "needs_background": "light"
     },
     "output_type": "display_data"
    }
   ],
   "source": [
    "mp_adj = np.append(mp[0],np.zeros(m-1)+np.nan)\n",
    "\n",
    "fig, (ax1, ax2) = plt.subplots(2,1,sharex=True,figsize=(20,10))\n",
    "ax1.plot(np.arange(len(pattern)),pattern, label=\"Synthetic Data\")\n",
    "ax1.set_ylabel('Entire Sequence', size=22)\n",
    "\n",
    "ax2.plot(np.arange(len(mp_adj)),mp_adj, label=\"Matrix Profile\", color='red')\n",
    "ax2.set_ylabel('Matrix Profile', size=22)\n",
    "ax2.set_xlabel('Sample', size=22)"
   ]
  },
  {
   "cell_type": "code",
   "execution_count": 63,
   "metadata": {},
   "outputs": [
    {
     "data": {
      "text/plain": [
       "(array([0, 0, 0], dtype=int64), array([109494, 111576, 112090], dtype=int64))"
      ]
     },
     "execution_count": 63,
     "metadata": {},
     "output_type": "execute_result"
    }
   ],
   "source": [
    "np.where([mp_adj == np.nanmax(mp_adj[100000:120000])])"
   ]
  },
  {
   "cell_type": "code",
   "execution_count": 65,
   "metadata": {},
   "outputs": [
    {
     "data": {
      "text/html": [
       "<div>\n",
       "<style scoped>\n",
       "    .dataframe tbody tr th:only-of-type {\n",
       "        vertical-align: middle;\n",
       "    }\n",
       "\n",
       "    .dataframe tbody tr th {\n",
       "        vertical-align: top;\n",
       "    }\n",
       "\n",
       "    .dataframe thead th {\n",
       "        text-align: right;\n",
       "    }\n",
       "</style>\n",
       "<table border=\"1\" class=\"dataframe\">\n",
       "  <thead>\n",
       "    <tr style=\"text-align: right;\">\n",
       "      <th></th>\n",
       "      <th>userID</th>\n",
       "      <th>time</th>\n",
       "      <th>links_workflow</th>\n",
       "      <th>gold_score</th>\n",
       "      <th>session</th>\n",
       "      <th>category2</th>\n",
       "    </tr>\n",
       "  </thead>\n",
       "  <tbody>\n",
       "    <tr>\n",
       "      <th>2459828</th>\n",
       "      <td>5209</td>\n",
       "      <td>2016-08-14 11:31:09</td>\n",
       "      <td>5.0</td>\n",
       "      <td>0.0</td>\n",
       "      <td>19</td>\n",
       "      <td>30</td>\n",
       "    </tr>\n",
       "    <tr>\n",
       "      <th>2476758</th>\n",
       "      <td>5209</td>\n",
       "      <td>2017-09-11 18:45:06</td>\n",
       "      <td>5.0</td>\n",
       "      <td>0.0</td>\n",
       "      <td>254</td>\n",
       "      <td>30</td>\n",
       "    </tr>\n",
       "    <tr>\n",
       "      <th>2477284</th>\n",
       "      <td>5209</td>\n",
       "      <td>2017-09-20 14:14:06</td>\n",
       "      <td>5.0</td>\n",
       "      <td>0.0</td>\n",
       "      <td>272</td>\n",
       "      <td>30</td>\n",
       "    </tr>\n",
       "  </tbody>\n",
       "</table>\n",
       "</div>"
      ],
      "text/plain": [
       "         userID                 time  links_workflow  gold_score  session  \\\n",
       "2459828    5209  2016-08-14 11:31:09             5.0         0.0       19   \n",
       "2476758    5209  2017-09-11 18:45:06             5.0         0.0      254   \n",
       "2477284    5209  2017-09-20 14:14:06             5.0         0.0      272   \n",
       "\n",
       "         category2  \n",
       "2459828         30  \n",
       "2476758         30  \n",
       "2477284         30  "
      ]
     },
     "execution_count": 65,
     "metadata": {},
     "output_type": "execute_result"
    }
   ],
   "source": [
    "df5.iloc[[109494, 111576, 112090],:]"
   ]
  },
  {
   "cell_type": "code",
   "execution_count": 67,
   "metadata": {},
   "outputs": [
    {
     "data": {
      "text/html": [
       "<div>\n",
       "<style scoped>\n",
       "    .dataframe tbody tr th:only-of-type {\n",
       "        vertical-align: middle;\n",
       "    }\n",
       "\n",
       "    .dataframe tbody tr th {\n",
       "        vertical-align: top;\n",
       "    }\n",
       "\n",
       "    .dataframe thead th {\n",
       "        text-align: right;\n",
       "    }\n",
       "</style>\n",
       "<table border=\"1\" class=\"dataframe\">\n",
       "  <thead>\n",
       "    <tr style=\"text-align: right;\">\n",
       "      <th></th>\n",
       "      <th>userID</th>\n",
       "      <th>time</th>\n",
       "      <th>links_workflow</th>\n",
       "      <th>gold_score</th>\n",
       "      <th>session</th>\n",
       "      <th>category2</th>\n",
       "    </tr>\n",
       "  </thead>\n",
       "  <tbody>\n",
       "    <tr>\n",
       "      <th>2459828</th>\n",
       "      <td>5209</td>\n",
       "      <td>2016-08-14 11:31:09</td>\n",
       "      <td>5.0</td>\n",
       "      <td>0.0</td>\n",
       "      <td>19</td>\n",
       "      <td>30</td>\n",
       "    </tr>\n",
       "    <tr>\n",
       "      <th>2459829</th>\n",
       "      <td>5209</td>\n",
       "      <td>2016-08-14 11:31:10</td>\n",
       "      <td>5.0</td>\n",
       "      <td>0.0</td>\n",
       "      <td>19</td>\n",
       "      <td>10</td>\n",
       "    </tr>\n",
       "    <tr>\n",
       "      <th>2459830</th>\n",
       "      <td>5209</td>\n",
       "      <td>2016-08-14 11:31:21</td>\n",
       "      <td>5.0</td>\n",
       "      <td>0.0</td>\n",
       "      <td>19</td>\n",
       "      <td>10</td>\n",
       "    </tr>\n",
       "    <tr>\n",
       "      <th>2459832</th>\n",
       "      <td>5209</td>\n",
       "      <td>2016-08-14 11:31:42</td>\n",
       "      <td>5.0</td>\n",
       "      <td>0.0</td>\n",
       "      <td>19</td>\n",
       "      <td>10</td>\n",
       "    </tr>\n",
       "    <tr>\n",
       "      <th>2459833</th>\n",
       "      <td>5209</td>\n",
       "      <td>2016-08-14 11:31:53</td>\n",
       "      <td>5.0</td>\n",
       "      <td>0.0</td>\n",
       "      <td>19</td>\n",
       "      <td>10</td>\n",
       "    </tr>\n",
       "    <tr>\n",
       "      <th>2459834</th>\n",
       "      <td>5209</td>\n",
       "      <td>2016-08-14 11:32:30</td>\n",
       "      <td>5.0</td>\n",
       "      <td>0.0</td>\n",
       "      <td>19</td>\n",
       "      <td>10</td>\n",
       "    </tr>\n",
       "    <tr>\n",
       "      <th>2459835</th>\n",
       "      <td>5209</td>\n",
       "      <td>2016-08-14 11:32:50</td>\n",
       "      <td>5.0</td>\n",
       "      <td>0.0</td>\n",
       "      <td>19</td>\n",
       "      <td>10</td>\n",
       "    </tr>\n",
       "    <tr>\n",
       "      <th>2459836</th>\n",
       "      <td>5209</td>\n",
       "      <td>2016-08-14 11:32:58</td>\n",
       "      <td>5.0</td>\n",
       "      <td>0.0</td>\n",
       "      <td>19</td>\n",
       "      <td>10</td>\n",
       "    </tr>\n",
       "    <tr>\n",
       "      <th>2459837</th>\n",
       "      <td>5209</td>\n",
       "      <td>2016-08-14 11:33:12</td>\n",
       "      <td>5.0</td>\n",
       "      <td>0.0</td>\n",
       "      <td>19</td>\n",
       "      <td>10</td>\n",
       "    </tr>\n",
       "    <tr>\n",
       "      <th>2459838</th>\n",
       "      <td>5209</td>\n",
       "      <td>2016-08-14 11:33:30</td>\n",
       "      <td>5.0</td>\n",
       "      <td>0.0</td>\n",
       "      <td>19</td>\n",
       "      <td>10</td>\n",
       "    </tr>\n",
       "  </tbody>\n",
       "</table>\n",
       "</div>"
      ],
      "text/plain": [
       "         userID                 time  links_workflow  gold_score  session  \\\n",
       "2459828    5209  2016-08-14 11:31:09             5.0         0.0       19   \n",
       "2459829    5209  2016-08-14 11:31:10             5.0         0.0       19   \n",
       "2459830    5209  2016-08-14 11:31:21             5.0         0.0       19   \n",
       "2459832    5209  2016-08-14 11:31:42             5.0         0.0       19   \n",
       "2459833    5209  2016-08-14 11:31:53             5.0         0.0       19   \n",
       "2459834    5209  2016-08-14 11:32:30             5.0         0.0       19   \n",
       "2459835    5209  2016-08-14 11:32:50             5.0         0.0       19   \n",
       "2459836    5209  2016-08-14 11:32:58             5.0         0.0       19   \n",
       "2459837    5209  2016-08-14 11:33:12             5.0         0.0       19   \n",
       "2459838    5209  2016-08-14 11:33:30             5.0         0.0       19   \n",
       "\n",
       "         category2  \n",
       "2459828         30  \n",
       "2459829         10  \n",
       "2459830         10  \n",
       "2459832         10  \n",
       "2459833         10  \n",
       "2459834         10  \n",
       "2459835         10  \n",
       "2459836         10  \n",
       "2459837         10  \n",
       "2459838         10  "
      ]
     },
     "execution_count": 67,
     "metadata": {},
     "output_type": "execute_result"
    }
   ],
   "source": [
    "df5.iloc[109494:109494+10,:]"
   ]
  },
  {
   "cell_type": "markdown",
   "metadata": {},
   "source": [
    "Create Matrixprofile for workflow 'n'"
   ]
  },
  {
   "cell_type": "code",
   "execution_count": 69,
   "metadata": {},
   "outputs": [],
   "source": [
    "def create_matrixprofile(df,n):\n",
    "    df_n = df[(df.links_workflow == n)]\n",
    "    print(df_n.userID.unique())\n",
    "    print(df_n['category2'].value_counts())\n",
    "    print(df_n.info())\n",
    "    my_list = [0]\n",
    "    #data1 = df_n.category2.values.tolist()\n",
    "    for i in range(0,len(df_n.category2.values)):\n",
    "        if df_n.category2.values[i] == 10:\n",
    "            my_list.append(my_list[-1]+3)\n",
    "        elif df_n.category2.values[i] == 20:\n",
    "            my_list.append(my_list[-1]+2)\n",
    "        elif df_n.category2.values[i] == 30:\n",
    "            my_list.append(my_list[-1]+1)\n",
    "        elif df_n.category2.values[i] == 40:\n",
    "            my_list.append(my_list[-1]+0)\n",
    "        elif df_n.category2.values[i] == 50:\n",
    "            my_list.append(my_list[-1]-1)\n",
    "        elif df_n.category2.values[i] == 60:\n",
    "            my_list.append(my_list[-1]-2)\n",
    "        elif df_n.category2.values[i] == 70:\n",
    "            my_list.append(my_list[-1]-3)\n",
    "    print(\"Creating matrixprofile...\")\n",
    "    my_listn = matrixProfile.to_np_array(my_list)\n",
    "    m = 10\n",
    "    pattern = my_listn\n",
    "    mp = matrixProfile.stomp(pattern,m)\n",
    "    print(\"Done\")\n",
    "    return mp"
   ]
  },
  {
   "cell_type": "code",
   "execution_count": null,
   "metadata": {},
   "outputs": [],
   "source": []
  },
  {
   "cell_type": "code",
   "execution_count": 70,
   "metadata": {},
   "outputs": [
    {
     "name": "stdout",
     "output_type": "stream",
     "text": [
      "[ 100423  103110 1036760 ...  997273  997501  999716]\n",
      "10    898834\n",
      "30        40\n",
      "40         2\n",
      "Name: category2, dtype: int64\n",
      "<class 'pandas.core.frame.DataFrame'>\n",
      "Int64Index: 898876 entries, 305 to 2698811\n",
      "Data columns (total 6 columns):\n",
      "userID            898876 non-null int64\n",
      "time              898876 non-null object\n",
      "links_workflow    898876 non-null float64\n",
      "gold_score        898876 non-null float64\n",
      "session           898876 non-null int64\n",
      "category2         898876 non-null object\n",
      "dtypes: float64(2), int64(2), object(2)\n",
      "memory usage: 48.0+ MB\n",
      "None\n",
      "Creating matrixprofile...\n"
     ]
    },
    {
     "ename": "KeyboardInterrupt",
     "evalue": "",
     "output_type": "error",
     "traceback": [
      "\u001b[1;31m---------------------------------------------------------------------------\u001b[0m",
      "\u001b[1;31mKeyboardInterrupt\u001b[0m                         Traceback (most recent call last)",
      "\u001b[1;32m<ipython-input-70-e9055aad54f6>\u001b[0m in \u001b[0;36m<module>\u001b[1;34m\u001b[0m\n\u001b[1;32m----> 1\u001b[1;33m \u001b[0mmp4\u001b[0m \u001b[1;33m=\u001b[0m \u001b[0mcreate_matrixprofile\u001b[0m\u001b[1;33m(\u001b[0m\u001b[0mdf_lite\u001b[0m\u001b[1;33m,\u001b[0m\u001b[1;36m4\u001b[0m\u001b[1;33m)\u001b[0m\u001b[1;33m\u001b[0m\u001b[1;33m\u001b[0m\u001b[0m\n\u001b[0m",
      "\u001b[1;32m<ipython-input-69-8bbb0cc214fd>\u001b[0m in \u001b[0;36mcreate_matrixprofile\u001b[1;34m(df, n)\u001b[0m\n\u001b[0;32m     25\u001b[0m     \u001b[0mm\u001b[0m \u001b[1;33m=\u001b[0m \u001b[1;36m10\u001b[0m\u001b[1;33m\u001b[0m\u001b[1;33m\u001b[0m\u001b[0m\n\u001b[0;32m     26\u001b[0m     \u001b[0mpattern\u001b[0m \u001b[1;33m=\u001b[0m \u001b[0mmy_listn\u001b[0m\u001b[1;33m\u001b[0m\u001b[1;33m\u001b[0m\u001b[0m\n\u001b[1;32m---> 27\u001b[1;33m     \u001b[0mmp\u001b[0m \u001b[1;33m=\u001b[0m \u001b[0mmatrixProfile\u001b[0m\u001b[1;33m.\u001b[0m\u001b[0mstomp\u001b[0m\u001b[1;33m(\u001b[0m\u001b[0mpattern\u001b[0m\u001b[1;33m,\u001b[0m\u001b[0mm\u001b[0m\u001b[1;33m)\u001b[0m\u001b[1;33m\u001b[0m\u001b[1;33m\u001b[0m\u001b[0m\n\u001b[0m\u001b[0;32m     28\u001b[0m     \u001b[0mprint\u001b[0m\u001b[1;33m(\u001b[0m\u001b[1;34m\"Done\"\u001b[0m\u001b[1;33m)\u001b[0m\u001b[1;33m\u001b[0m\u001b[1;33m\u001b[0m\u001b[0m\n\u001b[0;32m     29\u001b[0m     \u001b[1;32mreturn\u001b[0m \u001b[0mmp\u001b[0m\u001b[1;33m\u001b[0m\u001b[1;33m\u001b[0m\u001b[0m\n",
      "\u001b[1;32m~\\Anaconda3\\lib\\site-packages\\matrixprofile\\matrixProfile.py\u001b[0m in \u001b[0;36mstomp\u001b[1;34m(tsA, m, tsB)\u001b[0m\n\u001b[0;32m    345\u001b[0m     \u001b[0mtsB\u001b[0m\u001b[1;33m:\u001b[0m \u001b[0mTime\u001b[0m \u001b[0mseries\u001b[0m \u001b[0mto\u001b[0m \u001b[0mcompare\u001b[0m \u001b[0mthe\u001b[0m \u001b[0mquery\u001b[0m \u001b[0magainst\u001b[0m\u001b[1;33m.\u001b[0m \u001b[0mNote\u001b[0m \u001b[0mthat\u001b[0m\u001b[1;33m,\u001b[0m \u001b[1;32mif\u001b[0m \u001b[0mno\u001b[0m \u001b[0mvalue\u001b[0m \u001b[1;32mis\u001b[0m \u001b[0mprovided\u001b[0m\u001b[1;33m,\u001b[0m \u001b[0mtsB\u001b[0m \u001b[1;33m=\u001b[0m \u001b[0mtsA\u001b[0m \u001b[0mby\u001b[0m \u001b[0mdefault\u001b[0m\u001b[1;33m.\u001b[0m\u001b[1;33m\u001b[0m\u001b[1;33m\u001b[0m\u001b[0m\n\u001b[0;32m    346\u001b[0m     \"\"\"\n\u001b[1;32m--> 347\u001b[1;33m     \u001b[1;32mreturn\u001b[0m \u001b[0m_matrixProfile_stomp\u001b[0m\u001b[1;33m(\u001b[0m\u001b[0mtsA\u001b[0m\u001b[1;33m,\u001b[0m\u001b[0mm\u001b[0m\u001b[1;33m,\u001b[0m\u001b[0morder\u001b[0m\u001b[1;33m.\u001b[0m\u001b[0mlinearOrder\u001b[0m\u001b[1;33m,\u001b[0m\u001b[0mdistanceProfile\u001b[0m\u001b[1;33m.\u001b[0m\u001b[0mSTOMPDistanceProfile\u001b[0m\u001b[1;33m,\u001b[0m\u001b[0mtsB\u001b[0m\u001b[1;33m)\u001b[0m\u001b[1;33m\u001b[0m\u001b[1;33m\u001b[0m\u001b[0m\n\u001b[0m\u001b[0;32m    348\u001b[0m \u001b[1;33m\u001b[0m\u001b[0m\n\u001b[0;32m    349\u001b[0m \u001b[1;33m\u001b[0m\u001b[0m\n",
      "\u001b[1;32m~\\Anaconda3\\lib\\site-packages\\matrixprofile\\matrixProfile.py\u001b[0m in \u001b[0;36m_matrixProfile_stomp\u001b[1;34m(tsA, m, orderClass, distanceProfileFunction, tsB)\u001b[0m\n\u001b[0;32m    247\u001b[0m \u001b[1;33m\u001b[0m\u001b[0m\n\u001b[0;32m    248\u001b[0m         \u001b[1;31m#Check which of the indices have found a new minimum\u001b[0m\u001b[1;33m\u001b[0m\u001b[1;33m\u001b[0m\u001b[1;33m\u001b[0m\u001b[0m\n\u001b[1;32m--> 249\u001b[1;33m         \u001b[0midsToUpdate\u001b[0m \u001b[1;33m=\u001b[0m \u001b[0mdistanceProfile\u001b[0m \u001b[1;33m<\u001b[0m \u001b[0mmp\u001b[0m\u001b[1;33m\u001b[0m\u001b[1;33m\u001b[0m\u001b[0m\n\u001b[0m\u001b[0;32m    250\u001b[0m \u001b[1;33m\u001b[0m\u001b[0m\n\u001b[0;32m    251\u001b[0m         \u001b[1;31m#Update the Matrix Profile Index to indicate that the current index is the minimum location for the aforementioned indices\u001b[0m\u001b[1;33m\u001b[0m\u001b[1;33m\u001b[0m\u001b[1;33m\u001b[0m\u001b[0m\n",
      "\u001b[1;31mKeyboardInterrupt\u001b[0m: "
     ]
    }
   ],
   "source": [
    "mp4 = create_matrixprofile(df_lite,4)"
   ]
  },
  {
   "cell_type": "code",
   "execution_count": null,
   "metadata": {},
   "outputs": [],
   "source": [
    "mp_adj = np.append(mp4[0],np.zeros(m-1)+np.nan)\n",
    "\n",
    "fig, (ax1, ax2) = plt.subplots(2,1,sharex=True,figsize=(20,10))\n",
    "ax1.plot(np.arange(len(pattern)),pattern, label=\"Synthetic Data\")\n",
    "ax1.set_ylabel('Entire Sequence', size=22)\n",
    "\n",
    "ax2.plot(np.arange(len(mp_adj)),mp_adj, label=\"Matrix Profile\", color='red')\n",
    "ax2.set_ylabel('Matrix Profile', size=22)\n",
    "ax2.set_xlabel('Sample', size=22)"
   ]
  },
  {
   "cell_type": "code",
   "execution_count": null,
   "metadata": {},
   "outputs": [],
   "source": [
    "np.where([mp_adj == np.nanmax(mp_adj[100000:120000])])"
   ]
  },
  {
   "cell_type": "markdown",
   "metadata": {},
   "source": [
    "Create Matrixprofile for workflow 3"
   ]
  },
  {
   "cell_type": "code",
   "execution_count": 71,
   "metadata": {},
   "outputs": [
    {
     "name": "stdout",
     "output_type": "stream",
     "text": [
      "[ 100423 1008979  102322 ...  997501  999701  999716]\n",
      "10    675333\n",
      "30         7\n",
      "40         1\n",
      "Name: category2, dtype: int64\n",
      "<class 'pandas.core.frame.DataFrame'>\n",
      "Int64Index: 675341 entries, 271 to 2698731\n",
      "Data columns (total 6 columns):\n",
      "userID            675341 non-null int64\n",
      "time              675341 non-null object\n",
      "links_workflow    675341 non-null float64\n",
      "gold_score        675341 non-null float64\n",
      "session           675341 non-null int64\n",
      "category2         675341 non-null object\n",
      "dtypes: float64(2), int64(2), object(2)\n",
      "memory usage: 36.1+ MB\n",
      "None\n",
      "Creating matrixprofile...\n"
     ]
    },
    {
     "ename": "KeyboardInterrupt",
     "evalue": "",
     "output_type": "error",
     "traceback": [
      "\u001b[1;31m---------------------------------------------------------------------------\u001b[0m",
      "\u001b[1;31mKeyboardInterrupt\u001b[0m                         Traceback (most recent call last)",
      "\u001b[1;32m<ipython-input-71-1f723dbc2839>\u001b[0m in \u001b[0;36m<module>\u001b[1;34m\u001b[0m\n\u001b[1;32m----> 1\u001b[1;33m \u001b[0mmp3\u001b[0m \u001b[1;33m=\u001b[0m \u001b[0mcreate_matrixprofile\u001b[0m\u001b[1;33m(\u001b[0m\u001b[0mdf_lite\u001b[0m\u001b[1;33m,\u001b[0m\u001b[1;36m3\u001b[0m\u001b[1;33m)\u001b[0m\u001b[1;33m\u001b[0m\u001b[1;33m\u001b[0m\u001b[0m\n\u001b[0m",
      "\u001b[1;32m<ipython-input-69-8bbb0cc214fd>\u001b[0m in \u001b[0;36mcreate_matrixprofile\u001b[1;34m(df, n)\u001b[0m\n\u001b[0;32m     25\u001b[0m     \u001b[0mm\u001b[0m \u001b[1;33m=\u001b[0m \u001b[1;36m10\u001b[0m\u001b[1;33m\u001b[0m\u001b[1;33m\u001b[0m\u001b[0m\n\u001b[0;32m     26\u001b[0m     \u001b[0mpattern\u001b[0m \u001b[1;33m=\u001b[0m \u001b[0mmy_listn\u001b[0m\u001b[1;33m\u001b[0m\u001b[1;33m\u001b[0m\u001b[0m\n\u001b[1;32m---> 27\u001b[1;33m     \u001b[0mmp\u001b[0m \u001b[1;33m=\u001b[0m \u001b[0mmatrixProfile\u001b[0m\u001b[1;33m.\u001b[0m\u001b[0mstomp\u001b[0m\u001b[1;33m(\u001b[0m\u001b[0mpattern\u001b[0m\u001b[1;33m,\u001b[0m\u001b[0mm\u001b[0m\u001b[1;33m)\u001b[0m\u001b[1;33m\u001b[0m\u001b[1;33m\u001b[0m\u001b[0m\n\u001b[0m\u001b[0;32m     28\u001b[0m     \u001b[0mprint\u001b[0m\u001b[1;33m(\u001b[0m\u001b[1;34m\"Done\"\u001b[0m\u001b[1;33m)\u001b[0m\u001b[1;33m\u001b[0m\u001b[1;33m\u001b[0m\u001b[0m\n\u001b[0;32m     29\u001b[0m     \u001b[1;32mreturn\u001b[0m \u001b[0mmp\u001b[0m\u001b[1;33m\u001b[0m\u001b[1;33m\u001b[0m\u001b[0m\n",
      "\u001b[1;32m~\\Anaconda3\\lib\\site-packages\\matrixprofile\\matrixProfile.py\u001b[0m in \u001b[0;36mstomp\u001b[1;34m(tsA, m, tsB)\u001b[0m\n\u001b[0;32m    345\u001b[0m     \u001b[0mtsB\u001b[0m\u001b[1;33m:\u001b[0m \u001b[0mTime\u001b[0m \u001b[0mseries\u001b[0m \u001b[0mto\u001b[0m \u001b[0mcompare\u001b[0m \u001b[0mthe\u001b[0m \u001b[0mquery\u001b[0m \u001b[0magainst\u001b[0m\u001b[1;33m.\u001b[0m \u001b[0mNote\u001b[0m \u001b[0mthat\u001b[0m\u001b[1;33m,\u001b[0m \u001b[1;32mif\u001b[0m \u001b[0mno\u001b[0m \u001b[0mvalue\u001b[0m \u001b[1;32mis\u001b[0m \u001b[0mprovided\u001b[0m\u001b[1;33m,\u001b[0m \u001b[0mtsB\u001b[0m \u001b[1;33m=\u001b[0m \u001b[0mtsA\u001b[0m \u001b[0mby\u001b[0m \u001b[0mdefault\u001b[0m\u001b[1;33m.\u001b[0m\u001b[1;33m\u001b[0m\u001b[1;33m\u001b[0m\u001b[0m\n\u001b[0;32m    346\u001b[0m     \"\"\"\n\u001b[1;32m--> 347\u001b[1;33m     \u001b[1;32mreturn\u001b[0m \u001b[0m_matrixProfile_stomp\u001b[0m\u001b[1;33m(\u001b[0m\u001b[0mtsA\u001b[0m\u001b[1;33m,\u001b[0m\u001b[0mm\u001b[0m\u001b[1;33m,\u001b[0m\u001b[0morder\u001b[0m\u001b[1;33m.\u001b[0m\u001b[0mlinearOrder\u001b[0m\u001b[1;33m,\u001b[0m\u001b[0mdistanceProfile\u001b[0m\u001b[1;33m.\u001b[0m\u001b[0mSTOMPDistanceProfile\u001b[0m\u001b[1;33m,\u001b[0m\u001b[0mtsB\u001b[0m\u001b[1;33m)\u001b[0m\u001b[1;33m\u001b[0m\u001b[1;33m\u001b[0m\u001b[0m\n\u001b[0m\u001b[0;32m    348\u001b[0m \u001b[1;33m\u001b[0m\u001b[0m\n\u001b[0;32m    349\u001b[0m \u001b[1;33m\u001b[0m\u001b[0m\n",
      "\u001b[1;32m~\\Anaconda3\\lib\\site-packages\\matrixprofile\\matrixProfile.py\u001b[0m in \u001b[0;36m_matrixProfile_stomp\u001b[1;34m(tsA, m, orderClass, distanceProfileFunction, tsB)\u001b[0m\n\u001b[0;32m    241\u001b[0m \u001b[1;33m\u001b[0m\u001b[0m\n\u001b[0;32m    242\u001b[0m         \u001b[1;31m#Need to pass in the previous sliding dot product for subsequent distance profile calculations\u001b[0m\u001b[1;33m\u001b[0m\u001b[1;33m\u001b[0m\u001b[1;33m\u001b[0m\u001b[0m\n\u001b[1;32m--> 243\u001b[1;33m         \u001b[1;33m(\u001b[0m\u001b[0mdistanceProfile\u001b[0m\u001b[1;33m,\u001b[0m\u001b[0mquerySegmentsID\u001b[0m\u001b[1;33m)\u001b[0m\u001b[1;33m,\u001b[0m\u001b[0mdot_prev\u001b[0m \u001b[1;33m=\u001b[0m \u001b[0mdistanceProfileFunction\u001b[0m\u001b[1;33m(\u001b[0m\u001b[0mtsA\u001b[0m\u001b[1;33m,\u001b[0m\u001b[0midx\u001b[0m\u001b[1;33m,\u001b[0m\u001b[0mm\u001b[0m\u001b[1;33m,\u001b[0m\u001b[0mtsB\u001b[0m\u001b[1;33m,\u001b[0m\u001b[0mdot_first\u001b[0m\u001b[1;33m,\u001b[0m\u001b[0mdp\u001b[0m\u001b[1;33m,\u001b[0m\u001b[0mmean\u001b[0m\u001b[1;33m,\u001b[0m\u001b[0mstd\u001b[0m\u001b[1;33m)\u001b[0m\u001b[1;33m\u001b[0m\u001b[1;33m\u001b[0m\u001b[0m\n\u001b[0m\u001b[0;32m    244\u001b[0m \u001b[1;33m\u001b[0m\u001b[0m\n\u001b[0;32m    245\u001b[0m         \u001b[1;32mif\u001b[0m \u001b[0midx\u001b[0m \u001b[1;33m==\u001b[0m \u001b[1;36m0\u001b[0m\u001b[1;33m:\u001b[0m\u001b[1;33m\u001b[0m\u001b[1;33m\u001b[0m\u001b[0m\n",
      "\u001b[1;32m~\\Anaconda3\\lib\\site-packages\\matrixprofile\\distanceProfile.py\u001b[0m in \u001b[0;36mSTOMPDistanceProfile\u001b[1;34m(tsA, idx, m, tsB, dot_first, dp, mean, std)\u001b[0m\n\u001b[0;32m    124\u001b[0m     \u001b[1;32melse\u001b[0m\u001b[1;33m:\u001b[0m\u001b[1;33m\u001b[0m\u001b[1;33m\u001b[0m\u001b[0m\n\u001b[0;32m    125\u001b[0m         \u001b[0mres\u001b[0m\u001b[1;33m,\u001b[0m \u001b[0mdot\u001b[0m \u001b[1;33m=\u001b[0m \u001b[0mmassStomp\u001b[0m\u001b[1;33m(\u001b[0m\u001b[0mquery\u001b[0m\u001b[1;33m,\u001b[0m\u001b[0mtsB\u001b[0m\u001b[1;33m,\u001b[0m\u001b[0mdot_first\u001b[0m\u001b[1;33m,\u001b[0m\u001b[0mdp\u001b[0m\u001b[1;33m,\u001b[0m\u001b[0midx\u001b[0m\u001b[1;33m,\u001b[0m\u001b[0mmean\u001b[0m\u001b[1;33m,\u001b[0m\u001b[0mstd\u001b[0m\u001b[1;33m)\u001b[0m\u001b[1;33m\u001b[0m\u001b[1;33m\u001b[0m\u001b[0m\n\u001b[1;32m--> 126\u001b[1;33m         \u001b[0mdistanceProfile\u001b[0m \u001b[1;33m=\u001b[0m \u001b[0mnp\u001b[0m\u001b[1;33m.\u001b[0m\u001b[0mreal\u001b[0m\u001b[1;33m(\u001b[0m\u001b[0mnp\u001b[0m\u001b[1;33m.\u001b[0m\u001b[0msqrt\u001b[0m\u001b[1;33m(\u001b[0m\u001b[0mres\u001b[0m\u001b[1;33m.\u001b[0m\u001b[0mastype\u001b[0m\u001b[1;33m(\u001b[0m\u001b[0mcomplex\u001b[0m\u001b[1;33m)\u001b[0m\u001b[1;33m)\u001b[0m\u001b[1;33m)\u001b[0m\u001b[1;33m\u001b[0m\u001b[1;33m\u001b[0m\u001b[0m\n\u001b[0m\u001b[0;32m    127\u001b[0m \u001b[1;33m\u001b[0m\u001b[0m\n\u001b[0;32m    128\u001b[0m \u001b[1;33m\u001b[0m\u001b[0m\n",
      "\u001b[1;31mKeyboardInterrupt\u001b[0m: "
     ]
    }
   ],
   "source": [
    "mp3 = create_matrixprofile(df_lite,3)"
   ]
  },
  {
   "cell_type": "code",
   "execution_count": null,
   "metadata": {},
   "outputs": [],
   "source": [
    "mp_adj = np.append(mp3[0],np.zeros(m-1)+np.nan)\n",
    "\n",
    "fig, (ax1, ax2) = plt.subplots(2,1,sharex=True,figsize=(20,10))\n",
    "ax1.plot(np.arange(len(pattern)),pattern, label=\"Synthetic Data\")\n",
    "ax1.set_ylabel('Entire Sequence', size=22)\n",
    "\n",
    "ax2.plot(np.arange(len(mp_adj)),mp_adj, label=\"Matrix Profile\", color='red')\n",
    "ax2.set_ylabel('Matrix Profile', size=22)\n",
    "ax2.set_xlabel('Sample', size=22)"
   ]
  },
  {
   "cell_type": "markdown",
   "metadata": {},
   "source": [
    "Create Matrixprofile for workflow 2"
   ]
  },
  {
   "cell_type": "code",
   "execution_count": null,
   "metadata": {},
   "outputs": [],
   "source": [
    "mp2 = create_matrixprofile(df_lite,2)"
   ]
  },
  {
   "cell_type": "code",
   "execution_count": null,
   "metadata": {},
   "outputs": [],
   "source": [
    "mp_adj = np.append(mp2[0],np.zeros(m-1)+np.nan)\n",
    "\n",
    "fig, (ax1, ax2) = plt.subplots(2,1,sharex=True,figsize=(20,10))\n",
    "ax1.plot(np.arange(len(pattern)),pattern, label=\"Synthetic Data\")\n",
    "ax1.set_ylabel('Entire Sequence', size=22)\n",
    "\n",
    "ax2.plot(np.arange(len(mp_adj)),mp_adj, label=\"Matrix Profile\", color='red')\n",
    "ax2.set_ylabel('Matrix Profile', size=22)\n",
    "ax2.set_xlabel('Sample', size=22)"
   ]
  },
  {
   "cell_type": "markdown",
   "metadata": {},
   "source": [
    "Create matrixprofile for workflow 1"
   ]
  },
  {
   "cell_type": "code",
   "execution_count": null,
   "metadata": {},
   "outputs": [],
   "source": [
    "mp1 = create_matrixprofile(df_lite,1)"
   ]
  },
  {
   "cell_type": "code",
   "execution_count": null,
   "metadata": {},
   "outputs": [],
   "source": [
    "mp_adj = np.append(mp1[0],np.zeros(m-1)+np.nan)\n",
    "\n",
    "fig, (ax1, ax2) = plt.subplots(2,1,sharex=True,figsize=(20,10))\n",
    "ax1.plot(np.arange(len(pattern)),pattern, label=\"Synthetic Data\")\n",
    "ax1.set_ylabel('Entire Sequence', size=22)\n",
    "\n",
    "ax2.plot(np.arange(len(mp_adj)),mp_adj, label=\"Matrix Profile\", color='red')\n",
    "ax2.set_ylabel('Matrix Profile', size=22)\n",
    "ax2.set_xlabel('Sample', size=22)"
   ]
  }
 ],
 "metadata": {
  "kernelspec": {
   "display_name": "Python 3",
   "language": "python",
   "name": "python3"
  },
  "language_info": {
   "codemirror_mode": {
    "name": "ipython",
    "version": 3
   },
   "file_extension": ".py",
   "mimetype": "text/x-python",
   "name": "python",
   "nbconvert_exporter": "python",
   "pygments_lexer": "ipython3",
   "version": "3.7.6"
  }
 },
 "nbformat": 4,
 "nbformat_minor": 4
}
